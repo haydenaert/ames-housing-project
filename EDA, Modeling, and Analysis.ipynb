{
 "cells": [
  {
   "cell_type": "code",
   "execution_count": 1,
   "metadata": {},
   "outputs": [],
   "source": [
    "import pandas as pd \n",
    "import numpy as np \n",
    "import matplotlib.pyplot as plt \n",
    "import seaborn as sns \n",
    "\n",
    "from sklearn.model_selection import train_test_split, GridSearchCV \n",
    "from sklearn.neighbors import KNeighborsClassifier \n",
    "from sklearn.preprocessing import StandardScaler\n",
    "from sklearn.linear_model import LinearRegression, Ridge, RidgeCV, Lasso, LassoCV \n",
    "from sklearn.metrics import mean_squared_error\n",
    "from sklearn.preprocessing import scale, PolynomialFeatures\n",
    "from sklearn.linear_model import Ridge\n"
   ]
  },
  {
   "cell_type": "code",
   "execution_count": 2,
   "metadata": {},
   "outputs": [],
   "source": [
    "train_df = pd.read_csv('./datasets/train_df.csv')\n",
    "test_df = pd.read_csv('./datasets/test_df.csv')\n",
    "df = pd.read_csv('./datasets/test.csv')\n",
    "misc = pd.read_csv('./datasets/train.csv')"
   ]
  },
  {
   "cell_type": "code",
   "execution_count": 3,
   "metadata": {},
   "outputs": [
    {
     "data": {
      "text/html": [
       "<div>\n",
       "<style scoped>\n",
       "    .dataframe tbody tr th:only-of-type {\n",
       "        vertical-align: middle;\n",
       "    }\n",
       "\n",
       "    .dataframe tbody tr th {\n",
       "        vertical-align: top;\n",
       "    }\n",
       "\n",
       "    .dataframe thead th {\n",
       "        text-align: right;\n",
       "    }\n",
       "</style>\n",
       "<table border=\"1\" class=\"dataframe\">\n",
       "  <thead>\n",
       "    <tr style=\"text-align: right;\">\n",
       "      <th></th>\n",
       "      <th>Id</th>\n",
       "      <th>PID</th>\n",
       "      <th>MS SubClass</th>\n",
       "      <th>MS Zoning</th>\n",
       "      <th>Lot Frontage</th>\n",
       "      <th>Lot Area</th>\n",
       "      <th>Street</th>\n",
       "      <th>Alley</th>\n",
       "      <th>Lot Shape</th>\n",
       "      <th>Land Contour</th>\n",
       "      <th>...</th>\n",
       "      <th>3Ssn Porch</th>\n",
       "      <th>Screen Porch</th>\n",
       "      <th>Pool Area</th>\n",
       "      <th>Pool QC</th>\n",
       "      <th>Fence</th>\n",
       "      <th>Misc Feature</th>\n",
       "      <th>Misc Val</th>\n",
       "      <th>Mo Sold</th>\n",
       "      <th>Yr Sold</th>\n",
       "      <th>Sale Type</th>\n",
       "    </tr>\n",
       "  </thead>\n",
       "  <tbody>\n",
       "    <tr>\n",
       "      <th>0</th>\n",
       "      <td>2658</td>\n",
       "      <td>902301120</td>\n",
       "      <td>190</td>\n",
       "      <td>RM</td>\n",
       "      <td>69.0</td>\n",
       "      <td>9142</td>\n",
       "      <td>Pave</td>\n",
       "      <td>Grvl</td>\n",
       "      <td>Reg</td>\n",
       "      <td>Lvl</td>\n",
       "      <td>...</td>\n",
       "      <td>0</td>\n",
       "      <td>0</td>\n",
       "      <td>0</td>\n",
       "      <td>NaN</td>\n",
       "      <td>NaN</td>\n",
       "      <td>NaN</td>\n",
       "      <td>0</td>\n",
       "      <td>4</td>\n",
       "      <td>2006</td>\n",
       "      <td>WD</td>\n",
       "    </tr>\n",
       "    <tr>\n",
       "      <th>1</th>\n",
       "      <td>2718</td>\n",
       "      <td>905108090</td>\n",
       "      <td>90</td>\n",
       "      <td>RL</td>\n",
       "      <td>NaN</td>\n",
       "      <td>9662</td>\n",
       "      <td>Pave</td>\n",
       "      <td>NaN</td>\n",
       "      <td>IR1</td>\n",
       "      <td>Lvl</td>\n",
       "      <td>...</td>\n",
       "      <td>0</td>\n",
       "      <td>0</td>\n",
       "      <td>0</td>\n",
       "      <td>NaN</td>\n",
       "      <td>NaN</td>\n",
       "      <td>NaN</td>\n",
       "      <td>0</td>\n",
       "      <td>8</td>\n",
       "      <td>2006</td>\n",
       "      <td>WD</td>\n",
       "    </tr>\n",
       "    <tr>\n",
       "      <th>2</th>\n",
       "      <td>2414</td>\n",
       "      <td>528218130</td>\n",
       "      <td>60</td>\n",
       "      <td>RL</td>\n",
       "      <td>58.0</td>\n",
       "      <td>17104</td>\n",
       "      <td>Pave</td>\n",
       "      <td>NaN</td>\n",
       "      <td>IR1</td>\n",
       "      <td>Lvl</td>\n",
       "      <td>...</td>\n",
       "      <td>0</td>\n",
       "      <td>0</td>\n",
       "      <td>0</td>\n",
       "      <td>NaN</td>\n",
       "      <td>NaN</td>\n",
       "      <td>NaN</td>\n",
       "      <td>0</td>\n",
       "      <td>9</td>\n",
       "      <td>2006</td>\n",
       "      <td>New</td>\n",
       "    </tr>\n",
       "    <tr>\n",
       "      <th>3</th>\n",
       "      <td>1989</td>\n",
       "      <td>902207150</td>\n",
       "      <td>30</td>\n",
       "      <td>RM</td>\n",
       "      <td>60.0</td>\n",
       "      <td>8520</td>\n",
       "      <td>Pave</td>\n",
       "      <td>NaN</td>\n",
       "      <td>Reg</td>\n",
       "      <td>Lvl</td>\n",
       "      <td>...</td>\n",
       "      <td>0</td>\n",
       "      <td>0</td>\n",
       "      <td>0</td>\n",
       "      <td>NaN</td>\n",
       "      <td>NaN</td>\n",
       "      <td>NaN</td>\n",
       "      <td>0</td>\n",
       "      <td>7</td>\n",
       "      <td>2007</td>\n",
       "      <td>WD</td>\n",
       "    </tr>\n",
       "    <tr>\n",
       "      <th>4</th>\n",
       "      <td>625</td>\n",
       "      <td>535105100</td>\n",
       "      <td>20</td>\n",
       "      <td>RL</td>\n",
       "      <td>NaN</td>\n",
       "      <td>9500</td>\n",
       "      <td>Pave</td>\n",
       "      <td>NaN</td>\n",
       "      <td>IR1</td>\n",
       "      <td>Lvl</td>\n",
       "      <td>...</td>\n",
       "      <td>0</td>\n",
       "      <td>185</td>\n",
       "      <td>0</td>\n",
       "      <td>NaN</td>\n",
       "      <td>NaN</td>\n",
       "      <td>NaN</td>\n",
       "      <td>0</td>\n",
       "      <td>7</td>\n",
       "      <td>2009</td>\n",
       "      <td>WD</td>\n",
       "    </tr>\n",
       "    <tr>\n",
       "      <th>...</th>\n",
       "      <td>...</td>\n",
       "      <td>...</td>\n",
       "      <td>...</td>\n",
       "      <td>...</td>\n",
       "      <td>...</td>\n",
       "      <td>...</td>\n",
       "      <td>...</td>\n",
       "      <td>...</td>\n",
       "      <td>...</td>\n",
       "      <td>...</td>\n",
       "      <td>...</td>\n",
       "      <td>...</td>\n",
       "      <td>...</td>\n",
       "      <td>...</td>\n",
       "      <td>...</td>\n",
       "      <td>...</td>\n",
       "      <td>...</td>\n",
       "      <td>...</td>\n",
       "      <td>...</td>\n",
       "      <td>...</td>\n",
       "      <td>...</td>\n",
       "    </tr>\n",
       "    <tr>\n",
       "      <th>873</th>\n",
       "      <td>1662</td>\n",
       "      <td>527377110</td>\n",
       "      <td>60</td>\n",
       "      <td>RL</td>\n",
       "      <td>80.0</td>\n",
       "      <td>8000</td>\n",
       "      <td>Pave</td>\n",
       "      <td>NaN</td>\n",
       "      <td>Reg</td>\n",
       "      <td>Lvl</td>\n",
       "      <td>...</td>\n",
       "      <td>0</td>\n",
       "      <td>0</td>\n",
       "      <td>0</td>\n",
       "      <td>NaN</td>\n",
       "      <td>NaN</td>\n",
       "      <td>NaN</td>\n",
       "      <td>0</td>\n",
       "      <td>11</td>\n",
       "      <td>2007</td>\n",
       "      <td>WD</td>\n",
       "    </tr>\n",
       "    <tr>\n",
       "      <th>874</th>\n",
       "      <td>1234</td>\n",
       "      <td>535126140</td>\n",
       "      <td>60</td>\n",
       "      <td>RL</td>\n",
       "      <td>90.0</td>\n",
       "      <td>14670</td>\n",
       "      <td>Pave</td>\n",
       "      <td>NaN</td>\n",
       "      <td>Reg</td>\n",
       "      <td>Lvl</td>\n",
       "      <td>...</td>\n",
       "      <td>0</td>\n",
       "      <td>0</td>\n",
       "      <td>0</td>\n",
       "      <td>NaN</td>\n",
       "      <td>MnPrv</td>\n",
       "      <td>NaN</td>\n",
       "      <td>0</td>\n",
       "      <td>8</td>\n",
       "      <td>2008</td>\n",
       "      <td>WD</td>\n",
       "    </tr>\n",
       "    <tr>\n",
       "      <th>875</th>\n",
       "      <td>1373</td>\n",
       "      <td>904100040</td>\n",
       "      <td>20</td>\n",
       "      <td>RL</td>\n",
       "      <td>55.0</td>\n",
       "      <td>8250</td>\n",
       "      <td>Pave</td>\n",
       "      <td>NaN</td>\n",
       "      <td>Reg</td>\n",
       "      <td>Lvl</td>\n",
       "      <td>...</td>\n",
       "      <td>0</td>\n",
       "      <td>0</td>\n",
       "      <td>0</td>\n",
       "      <td>NaN</td>\n",
       "      <td>NaN</td>\n",
       "      <td>NaN</td>\n",
       "      <td>0</td>\n",
       "      <td>8</td>\n",
       "      <td>2008</td>\n",
       "      <td>WD</td>\n",
       "    </tr>\n",
       "    <tr>\n",
       "      <th>876</th>\n",
       "      <td>1672</td>\n",
       "      <td>527425140</td>\n",
       "      <td>20</td>\n",
       "      <td>RL</td>\n",
       "      <td>60.0</td>\n",
       "      <td>9000</td>\n",
       "      <td>Pave</td>\n",
       "      <td>NaN</td>\n",
       "      <td>Reg</td>\n",
       "      <td>Lvl</td>\n",
       "      <td>...</td>\n",
       "      <td>0</td>\n",
       "      <td>0</td>\n",
       "      <td>0</td>\n",
       "      <td>NaN</td>\n",
       "      <td>GdWo</td>\n",
       "      <td>NaN</td>\n",
       "      <td>0</td>\n",
       "      <td>5</td>\n",
       "      <td>2007</td>\n",
       "      <td>WD</td>\n",
       "    </tr>\n",
       "    <tr>\n",
       "      <th>877</th>\n",
       "      <td>1939</td>\n",
       "      <td>535327160</td>\n",
       "      <td>20</td>\n",
       "      <td>RL</td>\n",
       "      <td>70.0</td>\n",
       "      <td>8400</td>\n",
       "      <td>Pave</td>\n",
       "      <td>NaN</td>\n",
       "      <td>Reg</td>\n",
       "      <td>Lvl</td>\n",
       "      <td>...</td>\n",
       "      <td>0</td>\n",
       "      <td>0</td>\n",
       "      <td>0</td>\n",
       "      <td>NaN</td>\n",
       "      <td>GdWo</td>\n",
       "      <td>NaN</td>\n",
       "      <td>0</td>\n",
       "      <td>3</td>\n",
       "      <td>2007</td>\n",
       "      <td>WD</td>\n",
       "    </tr>\n",
       "  </tbody>\n",
       "</table>\n",
       "<p>878 rows × 80 columns</p>\n",
       "</div>"
      ],
      "text/plain": [
       "       Id        PID  MS SubClass MS Zoning  Lot Frontage  Lot Area Street  \\\n",
       "0    2658  902301120          190        RM          69.0      9142   Pave   \n",
       "1    2718  905108090           90        RL           NaN      9662   Pave   \n",
       "2    2414  528218130           60        RL          58.0     17104   Pave   \n",
       "3    1989  902207150           30        RM          60.0      8520   Pave   \n",
       "4     625  535105100           20        RL           NaN      9500   Pave   \n",
       "..    ...        ...          ...       ...           ...       ...    ...   \n",
       "873  1662  527377110           60        RL          80.0      8000   Pave   \n",
       "874  1234  535126140           60        RL          90.0     14670   Pave   \n",
       "875  1373  904100040           20        RL          55.0      8250   Pave   \n",
       "876  1672  527425140           20        RL          60.0      9000   Pave   \n",
       "877  1939  535327160           20        RL          70.0      8400   Pave   \n",
       "\n",
       "    Alley Lot Shape Land Contour  ... 3Ssn Porch Screen Porch Pool Area  \\\n",
       "0    Grvl       Reg          Lvl  ...          0            0         0   \n",
       "1     NaN       IR1          Lvl  ...          0            0         0   \n",
       "2     NaN       IR1          Lvl  ...          0            0         0   \n",
       "3     NaN       Reg          Lvl  ...          0            0         0   \n",
       "4     NaN       IR1          Lvl  ...          0          185         0   \n",
       "..    ...       ...          ...  ...        ...          ...       ...   \n",
       "873   NaN       Reg          Lvl  ...          0            0         0   \n",
       "874   NaN       Reg          Lvl  ...          0            0         0   \n",
       "875   NaN       Reg          Lvl  ...          0            0         0   \n",
       "876   NaN       Reg          Lvl  ...          0            0         0   \n",
       "877   NaN       Reg          Lvl  ...          0            0         0   \n",
       "\n",
       "    Pool QC  Fence Misc Feature Misc Val Mo Sold  Yr Sold  Sale Type  \n",
       "0       NaN    NaN          NaN        0       4     2006        WD   \n",
       "1       NaN    NaN          NaN        0       8     2006        WD   \n",
       "2       NaN    NaN          NaN        0       9     2006        New  \n",
       "3       NaN    NaN          NaN        0       7     2007        WD   \n",
       "4       NaN    NaN          NaN        0       7     2009        WD   \n",
       "..      ...    ...          ...      ...     ...      ...        ...  \n",
       "873     NaN    NaN          NaN        0      11     2007        WD   \n",
       "874     NaN  MnPrv          NaN        0       8     2008        WD   \n",
       "875     NaN    NaN          NaN        0       8     2008        WD   \n",
       "876     NaN   GdWo          NaN        0       5     2007        WD   \n",
       "877     NaN   GdWo          NaN        0       3     2007        WD   \n",
       "\n",
       "[878 rows x 80 columns]"
      ]
     },
     "execution_count": 3,
     "metadata": {},
     "output_type": "execute_result"
    }
   ],
   "source": [
    "df"
   ]
  },
  {
   "cell_type": "code",
   "execution_count": 4,
   "metadata": {},
   "outputs": [
    {
     "data": {
      "text/html": [
       "<div>\n",
       "<style scoped>\n",
       "    .dataframe tbody tr th:only-of-type {\n",
       "        vertical-align: middle;\n",
       "    }\n",
       "\n",
       "    .dataframe tbody tr th {\n",
       "        vertical-align: top;\n",
       "    }\n",
       "\n",
       "    .dataframe thead th {\n",
       "        text-align: right;\n",
       "    }\n",
       "</style>\n",
       "<table border=\"1\" class=\"dataframe\">\n",
       "  <thead>\n",
       "    <tr style=\"text-align: right;\">\n",
       "      <th></th>\n",
       "      <th>Unnamed: 0</th>\n",
       "      <th>Lot Shape</th>\n",
       "      <th>Utilities</th>\n",
       "      <th>Land Slope</th>\n",
       "      <th>Overall Qual</th>\n",
       "      <th>Overall Cond</th>\n",
       "      <th>Exter Cond</th>\n",
       "      <th>Bsmt Qual</th>\n",
       "      <th>Bsmt Cond</th>\n",
       "      <th>Bsmt Exposure</th>\n",
       "      <th>...</th>\n",
       "      <th>full_bath</th>\n",
       "      <th>half_bath</th>\n",
       "      <th>bedroom_abvgr</th>\n",
       "      <th>kitchen_abvgr</th>\n",
       "      <th>totrms_abvgrd</th>\n",
       "      <th>fireplaces</th>\n",
       "      <th>garage_yr_blt</th>\n",
       "      <th>garage_cars</th>\n",
       "      <th>garage_area</th>\n",
       "      <th>saleprice.1</th>\n",
       "    </tr>\n",
       "  </thead>\n",
       "  <tbody>\n",
       "    <tr>\n",
       "      <th>0</th>\n",
       "      <td>0</td>\n",
       "      <td>1</td>\n",
       "      <td>3</td>\n",
       "      <td>3</td>\n",
       "      <td>6</td>\n",
       "      <td>8</td>\n",
       "      <td>3</td>\n",
       "      <td>4</td>\n",
       "      <td>4</td>\n",
       "      <td>2</td>\n",
       "      <td>...</td>\n",
       "      <td>2</td>\n",
       "      <td>1</td>\n",
       "      <td>3</td>\n",
       "      <td>1</td>\n",
       "      <td>6</td>\n",
       "      <td>0</td>\n",
       "      <td>1976.0</td>\n",
       "      <td>2.0</td>\n",
       "      <td>475.0</td>\n",
       "      <td>130500</td>\n",
       "    </tr>\n",
       "    <tr>\n",
       "      <th>1</th>\n",
       "      <td>1</td>\n",
       "      <td>1</td>\n",
       "      <td>3</td>\n",
       "      <td>3</td>\n",
       "      <td>7</td>\n",
       "      <td>5</td>\n",
       "      <td>3</td>\n",
       "      <td>5</td>\n",
       "      <td>4</td>\n",
       "      <td>2</td>\n",
       "      <td>...</td>\n",
       "      <td>2</td>\n",
       "      <td>1</td>\n",
       "      <td>4</td>\n",
       "      <td>1</td>\n",
       "      <td>8</td>\n",
       "      <td>1</td>\n",
       "      <td>1997.0</td>\n",
       "      <td>2.0</td>\n",
       "      <td>559.0</td>\n",
       "      <td>220000</td>\n",
       "    </tr>\n",
       "    <tr>\n",
       "      <th>2</th>\n",
       "      <td>2</td>\n",
       "      <td>4</td>\n",
       "      <td>3</td>\n",
       "      <td>3</td>\n",
       "      <td>5</td>\n",
       "      <td>7</td>\n",
       "      <td>4</td>\n",
       "      <td>4</td>\n",
       "      <td>4</td>\n",
       "      <td>2</td>\n",
       "      <td>...</td>\n",
       "      <td>1</td>\n",
       "      <td>0</td>\n",
       "      <td>3</td>\n",
       "      <td>1</td>\n",
       "      <td>5</td>\n",
       "      <td>0</td>\n",
       "      <td>1953.0</td>\n",
       "      <td>1.0</td>\n",
       "      <td>246.0</td>\n",
       "      <td>109000</td>\n",
       "    </tr>\n",
       "    <tr>\n",
       "      <th>3</th>\n",
       "      <td>3</td>\n",
       "      <td>4</td>\n",
       "      <td>3</td>\n",
       "      <td>3</td>\n",
       "      <td>5</td>\n",
       "      <td>5</td>\n",
       "      <td>3</td>\n",
       "      <td>5</td>\n",
       "      <td>4</td>\n",
       "      <td>2</td>\n",
       "      <td>...</td>\n",
       "      <td>2</td>\n",
       "      <td>1</td>\n",
       "      <td>3</td>\n",
       "      <td>1</td>\n",
       "      <td>7</td>\n",
       "      <td>0</td>\n",
       "      <td>2007.0</td>\n",
       "      <td>2.0</td>\n",
       "      <td>400.0</td>\n",
       "      <td>174000</td>\n",
       "    </tr>\n",
       "    <tr>\n",
       "      <th>4</th>\n",
       "      <td>4</td>\n",
       "      <td>1</td>\n",
       "      <td>3</td>\n",
       "      <td>3</td>\n",
       "      <td>6</td>\n",
       "      <td>8</td>\n",
       "      <td>3</td>\n",
       "      <td>3</td>\n",
       "      <td>5</td>\n",
       "      <td>2</td>\n",
       "      <td>...</td>\n",
       "      <td>2</td>\n",
       "      <td>0</td>\n",
       "      <td>3</td>\n",
       "      <td>1</td>\n",
       "      <td>6</td>\n",
       "      <td>0</td>\n",
       "      <td>1957.0</td>\n",
       "      <td>2.0</td>\n",
       "      <td>484.0</td>\n",
       "      <td>138500</td>\n",
       "    </tr>\n",
       "    <tr>\n",
       "      <th>...</th>\n",
       "      <td>...</td>\n",
       "      <td>...</td>\n",
       "      <td>...</td>\n",
       "      <td>...</td>\n",
       "      <td>...</td>\n",
       "      <td>...</td>\n",
       "      <td>...</td>\n",
       "      <td>...</td>\n",
       "      <td>...</td>\n",
       "      <td>...</td>\n",
       "      <td>...</td>\n",
       "      <td>...</td>\n",
       "      <td>...</td>\n",
       "      <td>...</td>\n",
       "      <td>...</td>\n",
       "      <td>...</td>\n",
       "      <td>...</td>\n",
       "      <td>...</td>\n",
       "      <td>...</td>\n",
       "      <td>...</td>\n",
       "      <td>...</td>\n",
       "    </tr>\n",
       "    <tr>\n",
       "      <th>2046</th>\n",
       "      <td>2046</td>\n",
       "      <td>1</td>\n",
       "      <td>3</td>\n",
       "      <td>3</td>\n",
       "      <td>8</td>\n",
       "      <td>5</td>\n",
       "      <td>3</td>\n",
       "      <td>5</td>\n",
       "      <td>4</td>\n",
       "      <td>4</td>\n",
       "      <td>...</td>\n",
       "      <td>2</td>\n",
       "      <td>0</td>\n",
       "      <td>3</td>\n",
       "      <td>1</td>\n",
       "      <td>7</td>\n",
       "      <td>1</td>\n",
       "      <td>2007.0</td>\n",
       "      <td>2.0</td>\n",
       "      <td>520.0</td>\n",
       "      <td>298751</td>\n",
       "    </tr>\n",
       "    <tr>\n",
       "      <th>2047</th>\n",
       "      <td>2047</td>\n",
       "      <td>1</td>\n",
       "      <td>3</td>\n",
       "      <td>3</td>\n",
       "      <td>4</td>\n",
       "      <td>5</td>\n",
       "      <td>3</td>\n",
       "      <td>4</td>\n",
       "      <td>4</td>\n",
       "      <td>2</td>\n",
       "      <td>...</td>\n",
       "      <td>1</td>\n",
       "      <td>0</td>\n",
       "      <td>1</td>\n",
       "      <td>1</td>\n",
       "      <td>4</td>\n",
       "      <td>0</td>\n",
       "      <td>1961.0</td>\n",
       "      <td>2.0</td>\n",
       "      <td>539.0</td>\n",
       "      <td>82500</td>\n",
       "    </tr>\n",
       "    <tr>\n",
       "      <th>2048</th>\n",
       "      <td>2048</td>\n",
       "      <td>4</td>\n",
       "      <td>3</td>\n",
       "      <td>3</td>\n",
       "      <td>6</td>\n",
       "      <td>6</td>\n",
       "      <td>3</td>\n",
       "      <td>4</td>\n",
       "      <td>4</td>\n",
       "      <td>2</td>\n",
       "      <td>...</td>\n",
       "      <td>1</td>\n",
       "      <td>1</td>\n",
       "      <td>3</td>\n",
       "      <td>1</td>\n",
       "      <td>9</td>\n",
       "      <td>1</td>\n",
       "      <td>1929.0</td>\n",
       "      <td>2.0</td>\n",
       "      <td>342.0</td>\n",
       "      <td>177000</td>\n",
       "    </tr>\n",
       "    <tr>\n",
       "      <th>2049</th>\n",
       "      <td>2049</td>\n",
       "      <td>4</td>\n",
       "      <td>3</td>\n",
       "      <td>3</td>\n",
       "      <td>4</td>\n",
       "      <td>5</td>\n",
       "      <td>3</td>\n",
       "      <td>4</td>\n",
       "      <td>4</td>\n",
       "      <td>2</td>\n",
       "      <td>...</td>\n",
       "      <td>1</td>\n",
       "      <td>0</td>\n",
       "      <td>3</td>\n",
       "      <td>1</td>\n",
       "      <td>6</td>\n",
       "      <td>2</td>\n",
       "      <td>1956.0</td>\n",
       "      <td>1.0</td>\n",
       "      <td>294.0</td>\n",
       "      <td>144000</td>\n",
       "    </tr>\n",
       "    <tr>\n",
       "      <th>2050</th>\n",
       "      <td>2050</td>\n",
       "      <td>4</td>\n",
       "      <td>3</td>\n",
       "      <td>3</td>\n",
       "      <td>7</td>\n",
       "      <td>5</td>\n",
       "      <td>3</td>\n",
       "      <td>4</td>\n",
       "      <td>4</td>\n",
       "      <td>2</td>\n",
       "      <td>...</td>\n",
       "      <td>2</td>\n",
       "      <td>1</td>\n",
       "      <td>3</td>\n",
       "      <td>1</td>\n",
       "      <td>7</td>\n",
       "      <td>1</td>\n",
       "      <td>1999.0</td>\n",
       "      <td>2.0</td>\n",
       "      <td>442.0</td>\n",
       "      <td>189000</td>\n",
       "    </tr>\n",
       "  </tbody>\n",
       "</table>\n",
       "<p>2051 rows × 187 columns</p>\n",
       "</div>"
      ],
      "text/plain": [
       "      Unnamed: 0  Lot Shape  Utilities  Land Slope  Overall Qual  \\\n",
       "0              0          1          3           3             6   \n",
       "1              1          1          3           3             7   \n",
       "2              2          4          3           3             5   \n",
       "3              3          4          3           3             5   \n",
       "4              4          1          3           3             6   \n",
       "...          ...        ...        ...         ...           ...   \n",
       "2046        2046          1          3           3             8   \n",
       "2047        2047          1          3           3             4   \n",
       "2048        2048          4          3           3             6   \n",
       "2049        2049          4          3           3             4   \n",
       "2050        2050          4          3           3             7   \n",
       "\n",
       "      Overall Cond  Exter Cond  Bsmt Qual  Bsmt Cond  Bsmt Exposure  ...  \\\n",
       "0                8           3          4          4              2  ...   \n",
       "1                5           3          5          4              2  ...   \n",
       "2                7           4          4          4              2  ...   \n",
       "3                5           3          5          4              2  ...   \n",
       "4                8           3          3          5              2  ...   \n",
       "...            ...         ...        ...        ...            ...  ...   \n",
       "2046             5           3          5          4              4  ...   \n",
       "2047             5           3          4          4              2  ...   \n",
       "2048             6           3          4          4              2  ...   \n",
       "2049             5           3          4          4              2  ...   \n",
       "2050             5           3          4          4              2  ...   \n",
       "\n",
       "      full_bath  half_bath  bedroom_abvgr  kitchen_abvgr  totrms_abvgrd  \\\n",
       "0             2          1              3              1              6   \n",
       "1             2          1              4              1              8   \n",
       "2             1          0              3              1              5   \n",
       "3             2          1              3              1              7   \n",
       "4             2          0              3              1              6   \n",
       "...         ...        ...            ...            ...            ...   \n",
       "2046          2          0              3              1              7   \n",
       "2047          1          0              1              1              4   \n",
       "2048          1          1              3              1              9   \n",
       "2049          1          0              3              1              6   \n",
       "2050          2          1              3              1              7   \n",
       "\n",
       "      fireplaces  garage_yr_blt  garage_cars  garage_area  saleprice.1  \n",
       "0              0         1976.0          2.0        475.0       130500  \n",
       "1              1         1997.0          2.0        559.0       220000  \n",
       "2              0         1953.0          1.0        246.0       109000  \n",
       "3              0         2007.0          2.0        400.0       174000  \n",
       "4              0         1957.0          2.0        484.0       138500  \n",
       "...          ...            ...          ...          ...          ...  \n",
       "2046           1         2007.0          2.0        520.0       298751  \n",
       "2047           0         1961.0          2.0        539.0        82500  \n",
       "2048           1         1929.0          2.0        342.0       177000  \n",
       "2049           2         1956.0          1.0        294.0       144000  \n",
       "2050           1         1999.0          2.0        442.0       189000  \n",
       "\n",
       "[2051 rows x 187 columns]"
      ]
     },
     "execution_count": 4,
     "metadata": {},
     "output_type": "execute_result"
    }
   ],
   "source": [
    "train_df"
   ]
  },
  {
   "cell_type": "code",
   "execution_count": 5,
   "metadata": {
    "scrolled": true
   },
   "outputs": [
    {
     "data": {
      "text/html": [
       "<div>\n",
       "<style scoped>\n",
       "    .dataframe tbody tr th:only-of-type {\n",
       "        vertical-align: middle;\n",
       "    }\n",
       "\n",
       "    .dataframe tbody tr th {\n",
       "        vertical-align: top;\n",
       "    }\n",
       "\n",
       "    .dataframe thead th {\n",
       "        text-align: right;\n",
       "    }\n",
       "</style>\n",
       "<table border=\"1\" class=\"dataframe\">\n",
       "  <thead>\n",
       "    <tr style=\"text-align: right;\">\n",
       "      <th></th>\n",
       "      <th>Unnamed: 0</th>\n",
       "      <th>Lot Shape</th>\n",
       "      <th>Utilities</th>\n",
       "      <th>Land Slope</th>\n",
       "      <th>Overall Qual</th>\n",
       "      <th>Overall Cond</th>\n",
       "      <th>Exter Cond</th>\n",
       "      <th>Bsmt Qual</th>\n",
       "      <th>Bsmt Cond</th>\n",
       "      <th>Bsmt Exposure</th>\n",
       "      <th>...</th>\n",
       "      <th>bsmt_half_bath</th>\n",
       "      <th>full_bath</th>\n",
       "      <th>half_bath</th>\n",
       "      <th>bedroom_abvgr</th>\n",
       "      <th>kitchen_abvgr</th>\n",
       "      <th>totrms_abvgrd</th>\n",
       "      <th>fireplaces</th>\n",
       "      <th>garage_yr_blt</th>\n",
       "      <th>garage_cars</th>\n",
       "      <th>garage_area</th>\n",
       "    </tr>\n",
       "  </thead>\n",
       "  <tbody>\n",
       "    <tr>\n",
       "      <th>0</th>\n",
       "      <td>0</td>\n",
       "      <td>4</td>\n",
       "      <td>3</td>\n",
       "      <td>3</td>\n",
       "      <td>6</td>\n",
       "      <td>8</td>\n",
       "      <td>2</td>\n",
       "      <td>3</td>\n",
       "      <td>4</td>\n",
       "      <td>2</td>\n",
       "      <td>...</td>\n",
       "      <td>0</td>\n",
       "      <td>2</td>\n",
       "      <td>0</td>\n",
       "      <td>4</td>\n",
       "      <td>2</td>\n",
       "      <td>9</td>\n",
       "      <td>0</td>\n",
       "      <td>1910.0</td>\n",
       "      <td>1</td>\n",
       "      <td>440</td>\n",
       "    </tr>\n",
       "    <tr>\n",
       "      <th>1</th>\n",
       "      <td>1</td>\n",
       "      <td>1</td>\n",
       "      <td>3</td>\n",
       "      <td>3</td>\n",
       "      <td>5</td>\n",
       "      <td>4</td>\n",
       "      <td>3</td>\n",
       "      <td>5</td>\n",
       "      <td>4</td>\n",
       "      <td>2</td>\n",
       "      <td>...</td>\n",
       "      <td>0</td>\n",
       "      <td>2</td>\n",
       "      <td>0</td>\n",
       "      <td>6</td>\n",
       "      <td>2</td>\n",
       "      <td>10</td>\n",
       "      <td>0</td>\n",
       "      <td>1977.0</td>\n",
       "      <td>2</td>\n",
       "      <td>580</td>\n",
       "    </tr>\n",
       "    <tr>\n",
       "      <th>2</th>\n",
       "      <td>2</td>\n",
       "      <td>1</td>\n",
       "      <td>3</td>\n",
       "      <td>3</td>\n",
       "      <td>7</td>\n",
       "      <td>5</td>\n",
       "      <td>3</td>\n",
       "      <td>5</td>\n",
       "      <td>5</td>\n",
       "      <td>4</td>\n",
       "      <td>...</td>\n",
       "      <td>0</td>\n",
       "      <td>2</td>\n",
       "      <td>1</td>\n",
       "      <td>3</td>\n",
       "      <td>1</td>\n",
       "      <td>7</td>\n",
       "      <td>1</td>\n",
       "      <td>2006.0</td>\n",
       "      <td>2</td>\n",
       "      <td>426</td>\n",
       "    </tr>\n",
       "    <tr>\n",
       "      <th>3</th>\n",
       "      <td>3</td>\n",
       "      <td>4</td>\n",
       "      <td>3</td>\n",
       "      <td>3</td>\n",
       "      <td>5</td>\n",
       "      <td>6</td>\n",
       "      <td>3</td>\n",
       "      <td>4</td>\n",
       "      <td>4</td>\n",
       "      <td>2</td>\n",
       "      <td>...</td>\n",
       "      <td>0</td>\n",
       "      <td>1</td>\n",
       "      <td>0</td>\n",
       "      <td>2</td>\n",
       "      <td>1</td>\n",
       "      <td>5</td>\n",
       "      <td>0</td>\n",
       "      <td>1935.0</td>\n",
       "      <td>2</td>\n",
       "      <td>480</td>\n",
       "    </tr>\n",
       "    <tr>\n",
       "      <th>4</th>\n",
       "      <td>4</td>\n",
       "      <td>1</td>\n",
       "      <td>3</td>\n",
       "      <td>3</td>\n",
       "      <td>6</td>\n",
       "      <td>5</td>\n",
       "      <td>3</td>\n",
       "      <td>5</td>\n",
       "      <td>4</td>\n",
       "      <td>2</td>\n",
       "      <td>...</td>\n",
       "      <td>0</td>\n",
       "      <td>1</td>\n",
       "      <td>1</td>\n",
       "      <td>3</td>\n",
       "      <td>1</td>\n",
       "      <td>6</td>\n",
       "      <td>2</td>\n",
       "      <td>1963.0</td>\n",
       "      <td>2</td>\n",
       "      <td>514</td>\n",
       "    </tr>\n",
       "    <tr>\n",
       "      <th>...</th>\n",
       "      <td>...</td>\n",
       "      <td>...</td>\n",
       "      <td>...</td>\n",
       "      <td>...</td>\n",
       "      <td>...</td>\n",
       "      <td>...</td>\n",
       "      <td>...</td>\n",
       "      <td>...</td>\n",
       "      <td>...</td>\n",
       "      <td>...</td>\n",
       "      <td>...</td>\n",
       "      <td>...</td>\n",
       "      <td>...</td>\n",
       "      <td>...</td>\n",
       "      <td>...</td>\n",
       "      <td>...</td>\n",
       "      <td>...</td>\n",
       "      <td>...</td>\n",
       "      <td>...</td>\n",
       "      <td>...</td>\n",
       "      <td>...</td>\n",
       "    </tr>\n",
       "    <tr>\n",
       "      <th>873</th>\n",
       "      <td>873</td>\n",
       "      <td>4</td>\n",
       "      <td>3</td>\n",
       "      <td>3</td>\n",
       "      <td>6</td>\n",
       "      <td>6</td>\n",
       "      <td>3</td>\n",
       "      <td>4</td>\n",
       "      <td>4</td>\n",
       "      <td>2</td>\n",
       "      <td>...</td>\n",
       "      <td>0</td>\n",
       "      <td>2</td>\n",
       "      <td>1</td>\n",
       "      <td>4</td>\n",
       "      <td>1</td>\n",
       "      <td>8</td>\n",
       "      <td>1</td>\n",
       "      <td>1974.0</td>\n",
       "      <td>2</td>\n",
       "      <td>488</td>\n",
       "    </tr>\n",
       "    <tr>\n",
       "      <th>874</th>\n",
       "      <td>874</td>\n",
       "      <td>4</td>\n",
       "      <td>3</td>\n",
       "      <td>3</td>\n",
       "      <td>6</td>\n",
       "      <td>7</td>\n",
       "      <td>4</td>\n",
       "      <td>4</td>\n",
       "      <td>4</td>\n",
       "      <td>2</td>\n",
       "      <td>...</td>\n",
       "      <td>0</td>\n",
       "      <td>2</td>\n",
       "      <td>1</td>\n",
       "      <td>4</td>\n",
       "      <td>1</td>\n",
       "      <td>9</td>\n",
       "      <td>1</td>\n",
       "      <td>1966.0</td>\n",
       "      <td>2</td>\n",
       "      <td>480</td>\n",
       "    </tr>\n",
       "    <tr>\n",
       "      <th>875</th>\n",
       "      <td>875</td>\n",
       "      <td>4</td>\n",
       "      <td>3</td>\n",
       "      <td>3</td>\n",
       "      <td>5</td>\n",
       "      <td>5</td>\n",
       "      <td>3</td>\n",
       "      <td>4</td>\n",
       "      <td>4</td>\n",
       "      <td>2</td>\n",
       "      <td>...</td>\n",
       "      <td>0</td>\n",
       "      <td>1</td>\n",
       "      <td>0</td>\n",
       "      <td>3</td>\n",
       "      <td>1</td>\n",
       "      <td>5</td>\n",
       "      <td>1</td>\n",
       "      <td>1968.0</td>\n",
       "      <td>1</td>\n",
       "      <td>322</td>\n",
       "    </tr>\n",
       "    <tr>\n",
       "      <th>876</th>\n",
       "      <td>876</td>\n",
       "      <td>4</td>\n",
       "      <td>3</td>\n",
       "      <td>3</td>\n",
       "      <td>4</td>\n",
       "      <td>6</td>\n",
       "      <td>3</td>\n",
       "      <td>4</td>\n",
       "      <td>4</td>\n",
       "      <td>2</td>\n",
       "      <td>...</td>\n",
       "      <td>0</td>\n",
       "      <td>1</td>\n",
       "      <td>0</td>\n",
       "      <td>3</td>\n",
       "      <td>1</td>\n",
       "      <td>5</td>\n",
       "      <td>0</td>\n",
       "      <td>1974.0</td>\n",
       "      <td>2</td>\n",
       "      <td>528</td>\n",
       "    </tr>\n",
       "    <tr>\n",
       "      <th>877</th>\n",
       "      <td>877</td>\n",
       "      <td>4</td>\n",
       "      <td>3</td>\n",
       "      <td>3</td>\n",
       "      <td>5</td>\n",
       "      <td>5</td>\n",
       "      <td>4</td>\n",
       "      <td>4</td>\n",
       "      <td>4</td>\n",
       "      <td>2</td>\n",
       "      <td>...</td>\n",
       "      <td>0</td>\n",
       "      <td>1</td>\n",
       "      <td>0</td>\n",
       "      <td>3</td>\n",
       "      <td>1</td>\n",
       "      <td>5</td>\n",
       "      <td>2</td>\n",
       "      <td>1955.0</td>\n",
       "      <td>1</td>\n",
       "      <td>390</td>\n",
       "    </tr>\n",
       "  </tbody>\n",
       "</table>\n",
       "<p>878 rows × 177 columns</p>\n",
       "</div>"
      ],
      "text/plain": [
       "     Unnamed: 0  Lot Shape  Utilities  Land Slope  Overall Qual  Overall Cond  \\\n",
       "0             0          4          3           3             6             8   \n",
       "1             1          1          3           3             5             4   \n",
       "2             2          1          3           3             7             5   \n",
       "3             3          4          3           3             5             6   \n",
       "4             4          1          3           3             6             5   \n",
       "..          ...        ...        ...         ...           ...           ...   \n",
       "873         873          4          3           3             6             6   \n",
       "874         874          4          3           3             6             7   \n",
       "875         875          4          3           3             5             5   \n",
       "876         876          4          3           3             4             6   \n",
       "877         877          4          3           3             5             5   \n",
       "\n",
       "     Exter Cond  Bsmt Qual  Bsmt Cond  Bsmt Exposure  ...  bsmt_half_bath  \\\n",
       "0             2          3          4              2  ...               0   \n",
       "1             3          5          4              2  ...               0   \n",
       "2             3          5          5              4  ...               0   \n",
       "3             3          4          4              2  ...               0   \n",
       "4             3          5          4              2  ...               0   \n",
       "..          ...        ...        ...            ...  ...             ...   \n",
       "873           3          4          4              2  ...               0   \n",
       "874           4          4          4              2  ...               0   \n",
       "875           3          4          4              2  ...               0   \n",
       "876           3          4          4              2  ...               0   \n",
       "877           4          4          4              2  ...               0   \n",
       "\n",
       "     full_bath  half_bath  bedroom_abvgr  kitchen_abvgr  totrms_abvgrd  \\\n",
       "0            2          0              4              2              9   \n",
       "1            2          0              6              2             10   \n",
       "2            2          1              3              1              7   \n",
       "3            1          0              2              1              5   \n",
       "4            1          1              3              1              6   \n",
       "..         ...        ...            ...            ...            ...   \n",
       "873          2          1              4              1              8   \n",
       "874          2          1              4              1              9   \n",
       "875          1          0              3              1              5   \n",
       "876          1          0              3              1              5   \n",
       "877          1          0              3              1              5   \n",
       "\n",
       "     fireplaces  garage_yr_blt  garage_cars  garage_area  \n",
       "0             0         1910.0            1          440  \n",
       "1             0         1977.0            2          580  \n",
       "2             1         2006.0            2          426  \n",
       "3             0         1935.0            2          480  \n",
       "4             2         1963.0            2          514  \n",
       "..          ...            ...          ...          ...  \n",
       "873           1         1974.0            2          488  \n",
       "874           1         1966.0            2          480  \n",
       "875           1         1968.0            1          322  \n",
       "876           0         1974.0            2          528  \n",
       "877           2         1955.0            1          390  \n",
       "\n",
       "[878 rows x 177 columns]"
      ]
     },
     "execution_count": 5,
     "metadata": {},
     "output_type": "execute_result"
    }
   ],
   "source": [
    "test_df"
   ]
  },
  {
   "cell_type": "code",
   "execution_count": 6,
   "metadata": {},
   "outputs": [],
   "source": [
    "train_df.drop(columns=['Unnamed: 0'], inplace=True)\n",
    "test_df.drop(columns=['Unnamed: 0'], inplace=True)\n"
   ]
  },
  {
   "cell_type": "code",
   "execution_count": 7,
   "metadata": {},
   "outputs": [],
   "source": [
    "train_df.columns = train_df.columns.str.lower().str.replace(' ', '_')\n",
    "test_df.columns = test_df.columns.str.lower().str.replace(' ', '_')"
   ]
  },
  {
   "cell_type": "code",
   "execution_count": 8,
   "metadata": {},
   "outputs": [],
   "source": [
    "train_df['sale_price'] = train_df['saleprice.1']"
   ]
  },
  {
   "cell_type": "code",
   "execution_count": 9,
   "metadata": {},
   "outputs": [
    {
     "data": {
      "text/plain": [
       "Index(['lot_shape', 'utilities', 'land_slope', 'overall_qual', 'overall_cond',\n",
       "       'exter_cond', 'bsmt_qual', 'bsmt_cond', 'bsmt_exposure',\n",
       "       'bsmtfin_type_1',\n",
       "       ...\n",
       "       'half_bath', 'bedroom_abvgr', 'kitchen_abvgr', 'totrms_abvgrd',\n",
       "       'fireplaces', 'garage_yr_blt', 'garage_cars', 'garage_area',\n",
       "       'saleprice.1', 'sale_price'],\n",
       "      dtype='object', length=187)"
      ]
     },
     "execution_count": 9,
     "metadata": {},
     "output_type": "execute_result"
    }
   ],
   "source": [
    "train_df.columns"
   ]
  },
  {
   "cell_type": "code",
   "execution_count": 10,
   "metadata": {
    "scrolled": true
   },
   "outputs": [],
   "source": [
    "train_df.drop(columns=['saleprice.1'], inplace=True)"
   ]
  },
  {
   "cell_type": "code",
   "execution_count": 11,
   "metadata": {},
   "outputs": [
    {
     "data": {
      "text/plain": [
       "Index(['lot_shape', 'utilities', 'land_slope', 'overall_qual', 'overall_cond',\n",
       "       'exter_cond', 'bsmt_qual', 'bsmt_cond', 'bsmt_exposure',\n",
       "       'bsmtfin_type_1',\n",
       "       ...\n",
       "       'full_bath', 'half_bath', 'bedroom_abvgr', 'kitchen_abvgr',\n",
       "       'totrms_abvgrd', 'fireplaces', 'garage_yr_blt', 'garage_cars',\n",
       "       'garage_area', 'sale_price'],\n",
       "      dtype='object', length=186)"
      ]
     },
     "execution_count": 11,
     "metadata": {},
     "output_type": "execute_result"
    }
   ],
   "source": [
    "train_df.columns"
   ]
  },
  {
   "cell_type": "code",
   "execution_count": 12,
   "metadata": {
    "scrolled": true
   },
   "outputs": [
    {
     "data": {
      "text/html": [
       "<div>\n",
       "<style scoped>\n",
       "    .dataframe tbody tr th:only-of-type {\n",
       "        vertical-align: middle;\n",
       "    }\n",
       "\n",
       "    .dataframe tbody tr th {\n",
       "        vertical-align: top;\n",
       "    }\n",
       "\n",
       "    .dataframe thead th {\n",
       "        text-align: right;\n",
       "    }\n",
       "</style>\n",
       "<table border=\"1\" class=\"dataframe\">\n",
       "  <thead>\n",
       "    <tr style=\"text-align: right;\">\n",
       "      <th></th>\n",
       "      <th>lot_shape</th>\n",
       "      <th>utilities</th>\n",
       "      <th>land_slope</th>\n",
       "      <th>overall_qual</th>\n",
       "      <th>overall_cond</th>\n",
       "      <th>exter_cond</th>\n",
       "      <th>bsmt_qual</th>\n",
       "      <th>bsmt_cond</th>\n",
       "      <th>bsmt_exposure</th>\n",
       "      <th>bsmtfin_type_1</th>\n",
       "      <th>...</th>\n",
       "      <th>bsmt_half_bath</th>\n",
       "      <th>full_bath</th>\n",
       "      <th>half_bath</th>\n",
       "      <th>bedroom_abvgr</th>\n",
       "      <th>kitchen_abvgr</th>\n",
       "      <th>totrms_abvgrd</th>\n",
       "      <th>fireplaces</th>\n",
       "      <th>garage_yr_blt</th>\n",
       "      <th>garage_cars</th>\n",
       "      <th>garage_area</th>\n",
       "    </tr>\n",
       "  </thead>\n",
       "  <tbody>\n",
       "    <tr>\n",
       "      <th>0</th>\n",
       "      <td>4</td>\n",
       "      <td>3</td>\n",
       "      <td>3</td>\n",
       "      <td>6</td>\n",
       "      <td>8</td>\n",
       "      <td>2</td>\n",
       "      <td>3</td>\n",
       "      <td>4</td>\n",
       "      <td>2</td>\n",
       "      <td>2</td>\n",
       "      <td>...</td>\n",
       "      <td>0</td>\n",
       "      <td>2</td>\n",
       "      <td>0</td>\n",
       "      <td>4</td>\n",
       "      <td>2</td>\n",
       "      <td>9</td>\n",
       "      <td>0</td>\n",
       "      <td>1910.0</td>\n",
       "      <td>1</td>\n",
       "      <td>440</td>\n",
       "    </tr>\n",
       "    <tr>\n",
       "      <th>1</th>\n",
       "      <td>1</td>\n",
       "      <td>3</td>\n",
       "      <td>3</td>\n",
       "      <td>5</td>\n",
       "      <td>4</td>\n",
       "      <td>3</td>\n",
       "      <td>5</td>\n",
       "      <td>4</td>\n",
       "      <td>2</td>\n",
       "      <td>2</td>\n",
       "      <td>...</td>\n",
       "      <td>0</td>\n",
       "      <td>2</td>\n",
       "      <td>0</td>\n",
       "      <td>6</td>\n",
       "      <td>2</td>\n",
       "      <td>10</td>\n",
       "      <td>0</td>\n",
       "      <td>1977.0</td>\n",
       "      <td>2</td>\n",
       "      <td>580</td>\n",
       "    </tr>\n",
       "    <tr>\n",
       "      <th>2</th>\n",
       "      <td>1</td>\n",
       "      <td>3</td>\n",
       "      <td>3</td>\n",
       "      <td>7</td>\n",
       "      <td>5</td>\n",
       "      <td>3</td>\n",
       "      <td>5</td>\n",
       "      <td>5</td>\n",
       "      <td>4</td>\n",
       "      <td>7</td>\n",
       "      <td>...</td>\n",
       "      <td>0</td>\n",
       "      <td>2</td>\n",
       "      <td>1</td>\n",
       "      <td>3</td>\n",
       "      <td>1</td>\n",
       "      <td>7</td>\n",
       "      <td>1</td>\n",
       "      <td>2006.0</td>\n",
       "      <td>2</td>\n",
       "      <td>426</td>\n",
       "    </tr>\n",
       "    <tr>\n",
       "      <th>3</th>\n",
       "      <td>4</td>\n",
       "      <td>3</td>\n",
       "      <td>3</td>\n",
       "      <td>5</td>\n",
       "      <td>6</td>\n",
       "      <td>3</td>\n",
       "      <td>4</td>\n",
       "      <td>4</td>\n",
       "      <td>2</td>\n",
       "      <td>2</td>\n",
       "      <td>...</td>\n",
       "      <td>0</td>\n",
       "      <td>1</td>\n",
       "      <td>0</td>\n",
       "      <td>2</td>\n",
       "      <td>1</td>\n",
       "      <td>5</td>\n",
       "      <td>0</td>\n",
       "      <td>1935.0</td>\n",
       "      <td>2</td>\n",
       "      <td>480</td>\n",
       "    </tr>\n",
       "    <tr>\n",
       "      <th>4</th>\n",
       "      <td>1</td>\n",
       "      <td>3</td>\n",
       "      <td>3</td>\n",
       "      <td>6</td>\n",
       "      <td>5</td>\n",
       "      <td>3</td>\n",
       "      <td>5</td>\n",
       "      <td>4</td>\n",
       "      <td>2</td>\n",
       "      <td>5</td>\n",
       "      <td>...</td>\n",
       "      <td>0</td>\n",
       "      <td>1</td>\n",
       "      <td>1</td>\n",
       "      <td>3</td>\n",
       "      <td>1</td>\n",
       "      <td>6</td>\n",
       "      <td>2</td>\n",
       "      <td>1963.0</td>\n",
       "      <td>2</td>\n",
       "      <td>514</td>\n",
       "    </tr>\n",
       "    <tr>\n",
       "      <th>...</th>\n",
       "      <td>...</td>\n",
       "      <td>...</td>\n",
       "      <td>...</td>\n",
       "      <td>...</td>\n",
       "      <td>...</td>\n",
       "      <td>...</td>\n",
       "      <td>...</td>\n",
       "      <td>...</td>\n",
       "      <td>...</td>\n",
       "      <td>...</td>\n",
       "      <td>...</td>\n",
       "      <td>...</td>\n",
       "      <td>...</td>\n",
       "      <td>...</td>\n",
       "      <td>...</td>\n",
       "      <td>...</td>\n",
       "      <td>...</td>\n",
       "      <td>...</td>\n",
       "      <td>...</td>\n",
       "      <td>...</td>\n",
       "      <td>...</td>\n",
       "    </tr>\n",
       "    <tr>\n",
       "      <th>873</th>\n",
       "      <td>4</td>\n",
       "      <td>3</td>\n",
       "      <td>3</td>\n",
       "      <td>6</td>\n",
       "      <td>6</td>\n",
       "      <td>3</td>\n",
       "      <td>4</td>\n",
       "      <td>4</td>\n",
       "      <td>2</td>\n",
       "      <td>6</td>\n",
       "      <td>...</td>\n",
       "      <td>0</td>\n",
       "      <td>2</td>\n",
       "      <td>1</td>\n",
       "      <td>4</td>\n",
       "      <td>1</td>\n",
       "      <td>8</td>\n",
       "      <td>1</td>\n",
       "      <td>1974.0</td>\n",
       "      <td>2</td>\n",
       "      <td>488</td>\n",
       "    </tr>\n",
       "    <tr>\n",
       "      <th>874</th>\n",
       "      <td>4</td>\n",
       "      <td>3</td>\n",
       "      <td>3</td>\n",
       "      <td>6</td>\n",
       "      <td>7</td>\n",
       "      <td>4</td>\n",
       "      <td>4</td>\n",
       "      <td>4</td>\n",
       "      <td>2</td>\n",
       "      <td>5</td>\n",
       "      <td>...</td>\n",
       "      <td>0</td>\n",
       "      <td>2</td>\n",
       "      <td>1</td>\n",
       "      <td>4</td>\n",
       "      <td>1</td>\n",
       "      <td>9</td>\n",
       "      <td>1</td>\n",
       "      <td>1966.0</td>\n",
       "      <td>2</td>\n",
       "      <td>480</td>\n",
       "    </tr>\n",
       "    <tr>\n",
       "      <th>875</th>\n",
       "      <td>4</td>\n",
       "      <td>3</td>\n",
       "      <td>3</td>\n",
       "      <td>5</td>\n",
       "      <td>5</td>\n",
       "      <td>3</td>\n",
       "      <td>4</td>\n",
       "      <td>4</td>\n",
       "      <td>2</td>\n",
       "      <td>5</td>\n",
       "      <td>...</td>\n",
       "      <td>0</td>\n",
       "      <td>1</td>\n",
       "      <td>0</td>\n",
       "      <td>3</td>\n",
       "      <td>1</td>\n",
       "      <td>5</td>\n",
       "      <td>1</td>\n",
       "      <td>1968.0</td>\n",
       "      <td>1</td>\n",
       "      <td>322</td>\n",
       "    </tr>\n",
       "    <tr>\n",
       "      <th>876</th>\n",
       "      <td>4</td>\n",
       "      <td>3</td>\n",
       "      <td>3</td>\n",
       "      <td>4</td>\n",
       "      <td>6</td>\n",
       "      <td>3</td>\n",
       "      <td>4</td>\n",
       "      <td>4</td>\n",
       "      <td>2</td>\n",
       "      <td>6</td>\n",
       "      <td>...</td>\n",
       "      <td>0</td>\n",
       "      <td>1</td>\n",
       "      <td>0</td>\n",
       "      <td>3</td>\n",
       "      <td>1</td>\n",
       "      <td>5</td>\n",
       "      <td>0</td>\n",
       "      <td>1974.0</td>\n",
       "      <td>2</td>\n",
       "      <td>528</td>\n",
       "    </tr>\n",
       "    <tr>\n",
       "      <th>877</th>\n",
       "      <td>4</td>\n",
       "      <td>3</td>\n",
       "      <td>3</td>\n",
       "      <td>5</td>\n",
       "      <td>5</td>\n",
       "      <td>4</td>\n",
       "      <td>4</td>\n",
       "      <td>4</td>\n",
       "      <td>2</td>\n",
       "      <td>5</td>\n",
       "      <td>...</td>\n",
       "      <td>0</td>\n",
       "      <td>1</td>\n",
       "      <td>0</td>\n",
       "      <td>3</td>\n",
       "      <td>1</td>\n",
       "      <td>5</td>\n",
       "      <td>2</td>\n",
       "      <td>1955.0</td>\n",
       "      <td>1</td>\n",
       "      <td>390</td>\n",
       "    </tr>\n",
       "  </tbody>\n",
       "</table>\n",
       "<p>878 rows × 176 columns</p>\n",
       "</div>"
      ],
      "text/plain": [
       "     lot_shape  utilities  land_slope  overall_qual  overall_cond  exter_cond  \\\n",
       "0            4          3           3             6             8           2   \n",
       "1            1          3           3             5             4           3   \n",
       "2            1          3           3             7             5           3   \n",
       "3            4          3           3             5             6           3   \n",
       "4            1          3           3             6             5           3   \n",
       "..         ...        ...         ...           ...           ...         ...   \n",
       "873          4          3           3             6             6           3   \n",
       "874          4          3           3             6             7           4   \n",
       "875          4          3           3             5             5           3   \n",
       "876          4          3           3             4             6           3   \n",
       "877          4          3           3             5             5           4   \n",
       "\n",
       "     bsmt_qual  bsmt_cond  bsmt_exposure  bsmtfin_type_1  ...  bsmt_half_bath  \\\n",
       "0            3          4              2               2  ...               0   \n",
       "1            5          4              2               2  ...               0   \n",
       "2            5          5              4               7  ...               0   \n",
       "3            4          4              2               2  ...               0   \n",
       "4            5          4              2               5  ...               0   \n",
       "..         ...        ...            ...             ...  ...             ...   \n",
       "873          4          4              2               6  ...               0   \n",
       "874          4          4              2               5  ...               0   \n",
       "875          4          4              2               5  ...               0   \n",
       "876          4          4              2               6  ...               0   \n",
       "877          4          4              2               5  ...               0   \n",
       "\n",
       "     full_bath  half_bath  bedroom_abvgr  kitchen_abvgr  totrms_abvgrd  \\\n",
       "0            2          0              4              2              9   \n",
       "1            2          0              6              2             10   \n",
       "2            2          1              3              1              7   \n",
       "3            1          0              2              1              5   \n",
       "4            1          1              3              1              6   \n",
       "..         ...        ...            ...            ...            ...   \n",
       "873          2          1              4              1              8   \n",
       "874          2          1              4              1              9   \n",
       "875          1          0              3              1              5   \n",
       "876          1          0              3              1              5   \n",
       "877          1          0              3              1              5   \n",
       "\n",
       "     fireplaces  garage_yr_blt  garage_cars  garage_area  \n",
       "0             0         1910.0            1          440  \n",
       "1             0         1977.0            2          580  \n",
       "2             1         2006.0            2          426  \n",
       "3             0         1935.0            2          480  \n",
       "4             2         1963.0            2          514  \n",
       "..          ...            ...          ...          ...  \n",
       "873           1         1974.0            2          488  \n",
       "874           1         1966.0            2          480  \n",
       "875           1         1968.0            1          322  \n",
       "876           0         1974.0            2          528  \n",
       "877           2         1955.0            1          390  \n",
       "\n",
       "[878 rows x 176 columns]"
      ]
     },
     "execution_count": 12,
     "metadata": {},
     "output_type": "execute_result"
    }
   ],
   "source": [
    "test_df"
   ]
  },
  {
   "cell_type": "code",
   "execution_count": 13,
   "metadata": {},
   "outputs": [
    {
     "data": {
      "text/plain": [
       "Index(['lot_shape', 'utilities', 'land_slope', 'overall_qual', 'overall_cond',\n",
       "       'exter_cond', 'bsmt_qual', 'bsmt_cond', 'bsmt_exposure',\n",
       "       'bsmtfin_type_1',\n",
       "       ...\n",
       "       'bsmt_half_bath', 'full_bath', 'half_bath', 'bedroom_abvgr',\n",
       "       'kitchen_abvgr', 'totrms_abvgrd', 'fireplaces', 'garage_yr_blt',\n",
       "       'garage_cars', 'garage_area'],\n",
       "      dtype='object', length=176)"
      ]
     },
     "execution_count": 13,
     "metadata": {},
     "output_type": "execute_result"
    }
   ],
   "source": [
    "test_df.columns"
   ]
  },
  {
   "cell_type": "markdown",
   "metadata": {},
   "source": [
    "## EDA\n"
   ]
  },
  {
   "cell_type": "code",
   "execution_count": 14,
   "metadata": {},
   "outputs": [
    {
     "data": {
      "text/plain": [
       "<matplotlib.collections.PathCollection at 0x1c34e373550>"
      ]
     },
     "execution_count": 14,
     "metadata": {},
     "output_type": "execute_result"
    },
    {
     "data": {
      "image/png": "[encoded data removed]",
      "text/plain": [
       "<Figure size 432x288 with 1 Axes>"
      ]
     },
     "metadata": {
      "needs_background": "light"
     },
     "output_type": "display_data"
    }
   ],
   "source": [
    "plt.scatter(train_df['street_pave'],train_df['sale_price'] )"
   ]
  },
  {
   "cell_type": "code",
   "execution_count": 15,
   "metadata": {},
   "outputs": [
    {
     "data": {
      "text/plain": [
       "<matplotlib.collections.PathCollection at 0x1c34e337040>"
      ]
     },
     "execution_count": 15,
     "metadata": {},
     "output_type": "execute_result"
    },
    {
     "data": {
      "image/png": "[encoded data removed]",
      "text/plain": [
       "<Figure size 432x288 with 1 Axes>"
      ]
     },
     "metadata": {
      "needs_background": "light"
     },
     "output_type": "display_data"
    }
   ],
   "source": [
    "plt.scatter(train_df['alley_no_alley'],train_df['sale_price'] )"
   ]
  },
  {
   "cell_type": "code",
   "execution_count": 16,
   "metadata": {},
   "outputs": [
    {
     "data": {
      "text/plain": [
       "<matplotlib.collections.PathCollection at 0x1c34e835bb0>"
      ]
     },
     "execution_count": 16,
     "metadata": {},
     "output_type": "execute_result"
    },
    {
     "data": {
      "image/png": "[encoded data removed]",
      "text/plain": [
       "<Figure size 432x288 with 1 Axes>"
      ]
     },
     "metadata": {
      "needs_background": "light"
     },
     "output_type": "display_data"
    }
   ],
   "source": [
    "plt.scatter(train_df['mas_vnr_type_none'],train_df['sale_price'] )"
   ]
  },
  {
   "cell_type": "code",
   "execution_count": 17,
   "metadata": {},
   "outputs": [
    {
     "data": {
      "text/plain": [
       "<matplotlib.collections.PathCollection at 0x1c34e8e4160>"
      ]
     },
     "execution_count": 17,
     "metadata": {},
     "output_type": "execute_result"
    },
    {
     "data": {
      "image/png": "[encoded data removed]",
      "text/plain": [
       "<Figure size 432x288 with 1 Axes>"
      ]
     },
     "metadata": {
      "needs_background": "light"
     },
     "output_type": "display_data"
    }
   ],
   "source": [
    "plt.scatter(train_df['foundation_pconc'],train_df['sale_price'] )"
   ]
  },
  {
   "cell_type": "code",
   "execution_count": 18,
   "metadata": {},
   "outputs": [
    {
     "data": {
      "text/plain": [
       "<matplotlib.collections.PathCollection at 0x1c34e93ac70>"
      ]
     },
     "execution_count": 18,
     "metadata": {},
     "output_type": "execute_result"
    },
    {
     "data": {
      "image/png": "[encoded data removed]",
      "text/plain": [
       "<Figure size 432x288 with 1 Axes>"
      ]
     },
     "metadata": {
      "needs_background": "light"
     },
     "output_type": "display_data"
    }
   ],
   "source": [
    "plt.scatter(train_df['heating_gasa'],train_df['sale_price'] )"
   ]
  },
  {
   "cell_type": "code",
   "execution_count": 19,
   "metadata": {},
   "outputs": [
    {
     "data": {
      "text/plain": [
       "<matplotlib.collections.PathCollection at 0x1c34e9700d0>"
      ]
     },
     "execution_count": 19,
     "metadata": {},
     "output_type": "execute_result"
    },
    {
     "data": {
      "image/png": "[encoded data removed]",
      "text/plain": [
       "<Figure size 432x288 with 1 Axes>"
      ]
     },
     "metadata": {
      "needs_background": "light"
     },
     "output_type": "display_data"
    }
   ],
   "source": [
    "plt.scatter(train_df['central_air_y'],train_df['sale_price'] )"
   ]
  },
  {
   "cell_type": "code",
   "execution_count": 20,
   "metadata": {},
   "outputs": [
    {
     "data": {
      "text/plain": [
       "<matplotlib.collections.PathCollection at 0x1c34ea0bc70>"
      ]
     },
     "execution_count": 20,
     "metadata": {},
     "output_type": "execute_result"
    },
    {
     "data": {
      "image/png": "[encoded data removed]",
      "text/plain": [
       "<Figure size 432x288 with 1 Axes>"
      ]
     },
     "metadata": {
      "needs_background": "light"
     },
     "output_type": "display_data"
    }
   ],
   "source": [
    "plt.scatter(train_df['sale_type_wd_'],train_df['sale_price'] )"
   ]
  },
  {
   "cell_type": "code",
   "execution_count": 21,
   "metadata": {},
   "outputs": [
    {
     "data": {
      "text/plain": [
       "<matplotlib.collections.PathCollection at 0x1c34ea459d0>"
      ]
     },
     "execution_count": 21,
     "metadata": {},
     "output_type": "execute_result"
    },
    {
     "data": {
      "image/png": "[encoded data removed]",
      "text/plain": [
       "<Figure size 432x288 with 1 Axes>"
      ]
     },
     "metadata": {
      "needs_background": "light"
     },
     "output_type": "display_data"
    }
   ],
   "source": [
    "plt.scatter(train_df['overall_qual'],train_df['sale_price'] )"
   ]
  },
  {
   "cell_type": "code",
   "execution_count": 22,
   "metadata": {},
   "outputs": [
    {
     "data": {
      "text/plain": [
       "<matplotlib.collections.PathCollection at 0x1c34e9d0d00>"
      ]
     },
     "execution_count": 22,
     "metadata": {},
     "output_type": "execute_result"
    },
    {
     "data": {
      "image/png": "[encoded data removed]",
      "text/plain": [
       "<Figure size 432x288 with 1 Axes>"
      ]
     },
     "metadata": {
      "needs_background": "light"
     },
     "output_type": "display_data"
    }
   ],
   "source": [
    "plt.scatter(train_df['bsmt_qual'],train_df['sale_price'] )"
   ]
  },
  {
   "cell_type": "code",
   "execution_count": 23,
   "metadata": {},
   "outputs": [
    {
     "data": {
      "text/plain": [
       "<matplotlib.collections.PathCollection at 0x1c34e337190>"
      ]
     },
     "execution_count": 23,
     "metadata": {},
     "output_type": "execute_result"
    },
    {
     "data": {
      "image/png": "[encoded data removed]",
      "text/plain": [
       "<Figure size 432x288 with 1 Axes>"
      ]
     },
     "metadata": {
      "needs_background": "light"
     },
     "output_type": "display_data"
    }
   ],
   "source": [
    "plt.scatter(train_df['kitchen_qual'],train_df['sale_price'] )"
   ]
  },
  {
   "cell_type": "code",
   "execution_count": 24,
   "metadata": {},
   "outputs": [
    {
     "data": {
      "text/plain": [
       "<matplotlib.collections.PathCollection at 0x1c34e831250>"
      ]
     },
     "execution_count": 24,
     "metadata": {},
     "output_type": "execute_result"
    },
    {
     "data": {
      "image/png": "[encoded data removed]",
      "text/plain": [
       "<Figure size 432x288 with 1 Axes>"
      ]
     },
     "metadata": {
      "needs_background": "light"
     },
     "output_type": "display_data"
    }
   ],
   "source": [
    "plt.scatter(train_df['fireplace_qu'],train_df['sale_price'] )"
   ]
  },
  {
   "cell_type": "code",
   "execution_count": 25,
   "metadata": {},
   "outputs": [
    {
     "data": {
      "text/plain": [
       "<matplotlib.collections.PathCollection at 0x1c34eb8dc40>"
      ]
     },
     "execution_count": 25,
     "metadata": {},
     "output_type": "execute_result"
    },
    {
     "data": {
      "image/png": "[encoded data removed]",
      "text/plain": [
       "<Figure size 432x288 with 1 Axes>"
      ]
     },
     "metadata": {
      "needs_background": "light"
     },
     "output_type": "display_data"
    }
   ],
   "source": [
    "plt.scatter(train_df['bsmtfin_type_1'],train_df['sale_price'] )"
   ]
  },
  {
   "cell_type": "code",
   "execution_count": 26,
   "metadata": {},
   "outputs": [
    {
     "data": {
      "text/plain": [
       "<matplotlib.collections.PathCollection at 0x1c34fb84af0>"
      ]
     },
     "execution_count": 26,
     "metadata": {},
     "output_type": "execute_result"
    },
    {
     "data": {
      "image/png": "[encoded data removed]",
      "text/plain": [
       "<Figure size 432x288 with 1 Axes>"
      ]
     },
     "metadata": {
      "needs_background": "light"
     },
     "output_type": "display_data"
    }
   ],
   "source": [
    "plt.scatter(train_df['bsmt_exposure'],train_df['sale_price'] )"
   ]
  },
  {
   "cell_type": "code",
   "execution_count": 27,
   "metadata": {},
   "outputs": [
    {
     "data": {
      "text/plain": [
       "<matplotlib.collections.PathCollection at 0x1c34fb8f700>"
      ]
     },
     "execution_count": 27,
     "metadata": {},
     "output_type": "execute_result"
    },
    {
     "data": {
      "image/png": "[encoded data removed]",
      "text/plain": [
       "<Figure size 432x288 with 1 Axes>"
      ]
     },
     "metadata": {
      "needs_background": "light"
     },
     "output_type": "display_data"
    }
   ],
   "source": [
    "plt.scatter(train_df['heating_qc'],train_df['sale_price'] )"
   ]
  },
  {
   "cell_type": "code",
   "execution_count": 28,
   "metadata": {},
   "outputs": [
    {
     "data": {
      "text/plain": [
       "<matplotlib.collections.PathCollection at 0x1c34eb7cb50>"
      ]
     },
     "execution_count": 28,
     "metadata": {},
     "output_type": "execute_result"
    },
    {
     "data": {
      "image/png": "[encoded data removed]",
      "text/plain": [
       "<Figure size 432x288 with 1 Axes>"
      ]
     },
     "metadata": {
      "needs_background": "light"
     },
     "output_type": "display_data"
    }
   ],
   "source": [
    "plt.scatter(train_df['bsmt_cond'],train_df['sale_price'] )"
   ]
  },
  {
   "cell_type": "code",
   "execution_count": 29,
   "metadata": {},
   "outputs": [
    {
     "data": {
      "text/plain": [
       "<matplotlib.collections.PathCollection at 0x1c34fc6d0a0>"
      ]
     },
     "execution_count": 29,
     "metadata": {},
     "output_type": "execute_result"
    },
    {
     "data": {
      "image/png": "[encoded data removed]",
      "text/plain": [
       "<Figure size 432x288 with 1 Axes>"
      ]
     },
     "metadata": {
      "needs_background": "light"
     },
     "output_type": "display_data"
    }
   ],
   "source": [
    "plt.scatter(train_df['year_built'],train_df['sale_price'] )"
   ]
  },
  {
   "cell_type": "code",
   "execution_count": 30,
   "metadata": {},
   "outputs": [
    {
     "data": {
      "text/plain": [
       "<matplotlib.collections.PathCollection at 0x1c34fd39640>"
      ]
     },
     "execution_count": 30,
     "metadata": {},
     "output_type": "execute_result"
    },
    {
     "data": {
      "image/png": "[encoded data removed]",
      "text/plain": [
       "<Figure size 432x288 with 1 Axes>"
      ]
     },
     "metadata": {
      "needs_background": "light"
     },
     "output_type": "display_data"
    }
   ],
   "source": [
    "plt.scatter(train_df['bsmt_full_bath'],train_df['sale_price'] )"
   ]
  },
  {
   "cell_type": "code",
   "execution_count": 31,
   "metadata": {},
   "outputs": [
    {
     "data": {
      "text/plain": [
       "<matplotlib.collections.PathCollection at 0x1c34fd675b0>"
      ]
     },
     "execution_count": 31,
     "metadata": {},
     "output_type": "execute_result"
    },
    {
     "data": {
      "image/png": "[encoded data removed]",
      "text/plain": [
       "<Figure size 432x288 with 1 Axes>"
      ]
     },
     "metadata": {
      "needs_background": "light"
     },
     "output_type": "display_data"
    }
   ],
   "source": [
    "plt.scatter(train_df['full_bath'],train_df['sale_price'] )"
   ]
  },
  {
   "cell_type": "code",
   "execution_count": 32,
   "metadata": {},
   "outputs": [
    {
     "data": {
      "text/plain": [
       "<matplotlib.collections.PathCollection at 0x1c34fd670a0>"
      ]
     },
     "execution_count": 32,
     "metadata": {},
     "output_type": "execute_result"
    },
    {
     "data": {
      "image/png": "[encoded data removed]",
      "text/plain": [
       "<Figure size 432x288 with 1 Axes>"
      ]
     },
     "metadata": {
      "needs_background": "light"
     },
     "output_type": "display_data"
    }
   ],
   "source": [
    "plt.scatter(train_df['half_bath'],train_df['sale_price'] )"
   ]
  },
  {
   "cell_type": "code",
   "execution_count": 33,
   "metadata": {},
   "outputs": [
    {
     "data": {
      "text/plain": [
       "<matplotlib.collections.PathCollection at 0x1c34fe4c100>"
      ]
     },
     "execution_count": 33,
     "metadata": {},
     "output_type": "execute_result"
    },
    {
     "data": {
      "image/png": "[encoded data removed]",
      "text/plain": [
       "<Figure size 432x288 with 1 Axes>"
      ]
     },
     "metadata": {
      "needs_background": "light"
     },
     "output_type": "display_data"
    }
   ],
   "source": [
    "plt.scatter(train_df['year_remod/add'],train_df['sale_price'] )"
   ]
  },
  {
   "cell_type": "code",
   "execution_count": 34,
   "metadata": {},
   "outputs": [
    {
     "data": {
      "text/plain": [
       "<matplotlib.collections.PathCollection at 0x1c34fe641c0>"
      ]
     },
     "execution_count": 34,
     "metadata": {},
     "output_type": "execute_result"
    },
    {
     "data": {
      "image/png": "[encoded data removed]",
      "text/plain": [
       "<Figure size 432x288 with 1 Axes>"
      ]
     },
     "metadata": {
      "needs_background": "light"
     },
     "output_type": "display_data"
    }
   ],
   "source": [
    "plt.scatter(train_df['mas_vnr_area'],train_df['sale_price'] )"
   ]
  },
  {
   "cell_type": "code",
   "execution_count": 35,
   "metadata": {},
   "outputs": [
    {
     "data": {
      "text/plain": [
       "<matplotlib.collections.PathCollection at 0x1c34fe60490>"
      ]
     },
     "execution_count": 35,
     "metadata": {},
     "output_type": "execute_result"
    },
    {
     "data": {
      "image/png": "[encoded data removed]",
      "text/plain": [
       "<Figure size 432x288 with 1 Axes>"
      ]
     },
     "metadata": {
      "needs_background": "light"
     },
     "output_type": "display_data"
    }
   ],
   "source": [
    "plt.scatter(train_df['total_bsmt_sf'],train_df['sale_price'] )"
   ]
  },
  {
   "cell_type": "code",
   "execution_count": 36,
   "metadata": {},
   "outputs": [
    {
     "data": {
      "text/plain": [
       "<matplotlib.collections.PathCollection at 0x1c34ff25fd0>"
      ]
     },
     "execution_count": 36,
     "metadata": {},
     "output_type": "execute_result"
    },
    {
     "data": {
      "image/png": "[encoded data removed]",
      "text/plain": [
       "<Figure size 432x288 with 1 Axes>"
      ]
     },
     "metadata": {
      "needs_background": "light"
     },
     "output_type": "display_data"
    }
   ],
   "source": [
    "plt.scatter(train_df['1st_flr_sf'],train_df['sale_price'] )"
   ]
  },
  {
   "cell_type": "code",
   "execution_count": 37,
   "metadata": {},
   "outputs": [
    {
     "data": {
      "text/plain": [
       "<matplotlib.collections.PathCollection at 0x1c34ffa58e0>"
      ]
     },
     "execution_count": 37,
     "metadata": {},
     "output_type": "execute_result"
    },
    {
     "data": {
      "image/png": "[encoded data removed]",
      "text/plain": [
       "<Figure size 432x288 with 1 Axes>"
      ]
     },
     "metadata": {
      "needs_background": "light"
     },
     "output_type": "display_data"
    }
   ],
   "source": [
    "plt.scatter(train_df['2nd_flr_sf'],train_df['sale_price'] )"
   ]
  },
  {
   "cell_type": "code",
   "execution_count": 38,
   "metadata": {},
   "outputs": [
    {
     "data": {
      "text/plain": [
       "<matplotlib.collections.PathCollection at 0x1c34eb6c040>"
      ]
     },
     "execution_count": 38,
     "metadata": {},
     "output_type": "execute_result"
    },
    {
     "data": {
      "image/png": "[encoded data removed]",
      "text/plain": [
       "<Figure size 432x288 with 1 Axes>"
      ]
     },
     "metadata": {
      "needs_background": "light"
     },
     "output_type": "display_data"
    }
   ],
   "source": [
    "plt.scatter(train_df['gr_liv_area'],train_df['sale_price'] )"
   ]
  },
  {
   "cell_type": "code",
   "execution_count": 39,
   "metadata": {},
   "outputs": [
    {
     "data": {
      "text/plain": [
       "<matplotlib.collections.PathCollection at 0x1c34fe64460>"
      ]
     },
     "execution_count": 39,
     "metadata": {},
     "output_type": "execute_result"
    },
    {
     "data": {
      "image/png": "[encoded data removed]",
      "text/plain": [
       "<Figure size 432x288 with 1 Axes>"
      ]
     },
     "metadata": {
      "needs_background": "light"
     },
     "output_type": "display_data"
    }
   ],
   "source": [
    "plt.scatter(train_df['totrms_abvgrd'],train_df['sale_price'] )"
   ]
  },
  {
   "cell_type": "code",
   "execution_count": 40,
   "metadata": {},
   "outputs": [
    {
     "data": {
      "text/plain": [
       "<matplotlib.collections.PathCollection at 0x1c350079ee0>"
      ]
     },
     "execution_count": 40,
     "metadata": {},
     "output_type": "execute_result"
    },
    {
     "data": {
      "image/png": "[encoded data removed]",
      "text/plain": [
       "<Figure size 432x288 with 1 Axes>"
      ]
     },
     "metadata": {
      "needs_background": "light"
     },
     "output_type": "display_data"
    }
   ],
   "source": [
    "plt.scatter(train_df['gr_liv_area'],train_df['sale_price'] )"
   ]
  },
  {
   "cell_type": "code",
   "execution_count": 41,
   "metadata": {},
   "outputs": [
    {
     "data": {
      "text/plain": [
       "<matplotlib.collections.PathCollection at 0x1c3500d36d0>"
      ]
     },
     "execution_count": 41,
     "metadata": {},
     "output_type": "execute_result"
    },
    {
     "data": {
      "image/png": "[encoded data removed]",
      "text/plain": [
       "<Figure size 432x288 with 1 Axes>"
      ]
     },
     "metadata": {
      "needs_background": "light"
     },
     "output_type": "display_data"
    }
   ],
   "source": [
    "plt.scatter(train_df['fireplaces'],train_df['sale_price'] )"
   ]
  },
  {
   "cell_type": "code",
   "execution_count": 42,
   "metadata": {},
   "outputs": [
    {
     "data": {
      "text/plain": [
       "<matplotlib.collections.PathCollection at 0x1c35008e550>"
      ]
     },
     "execution_count": 42,
     "metadata": {},
     "output_type": "execute_result"
    },
    {
     "data": {
      "image/png": "[encoded data removed]",
      "text/plain": [
       "<Figure size 432x288 with 1 Axes>"
      ]
     },
     "metadata": {
      "needs_background": "light"
     },
     "output_type": "display_data"
    }
   ],
   "source": [
    "plt.scatter(train_df['garage_cars'],train_df['sale_price'] )"
   ]
  },
  {
   "cell_type": "code",
   "execution_count": 43,
   "metadata": {},
   "outputs": [],
   "source": [
    "train_df['1st_and_2nd'] = train_df['1st_flr_sf'] + train_df['2nd_flr_sf']\n"
   ]
  },
  {
   "cell_type": "code",
   "execution_count": 44,
   "metadata": {},
   "outputs": [],
   "source": [
    "test_df['1st_and_2nd'] = test_df['1st_flr_sf'] + test_df['2nd_flr_sf']"
   ]
  },
  {
   "cell_type": "code",
   "execution_count": 45,
   "metadata": {},
   "outputs": [],
   "source": [
    "train_df['alt_housing_options']= train_df['bldg_type_2fmcon'] + train_df['bldg_type_duplex'] + train_df['bldg_type_twnhs'] + train_df['bldg_type_twnhse']"
   ]
  },
  {
   "cell_type": "code",
   "execution_count": 46,
   "metadata": {},
   "outputs": [],
   "source": [
    "test_df['alt_housing_options']= test_df['bldg_type_2fmcon'] + test_df['bldg_type_duplex'] + test_df['bldg_type_twnhs'] + test_df['bldg_type_twnhse']"
   ]
  },
  {
   "cell_type": "code",
   "execution_count": 47,
   "metadata": {},
   "outputs": [
    {
     "data": {
      "text/plain": [
       "<matplotlib.collections.PathCollection at 0x1c3501bdeb0>"
      ]
     },
     "execution_count": 47,
     "metadata": {},
     "output_type": "execute_result"
    },
    {
     "data": {
      "image/png": "[encoded data removed]",
      "text/plain": [
       "<Figure size 432x288 with 1 Axes>"
      ]
     },
     "metadata": {
      "needs_background": "light"
     },
     "output_type": "display_data"
    }
   ],
   "source": [
    "plt.scatter(train_df['1st_and_2nd'],train_df['sale_price'] )"
   ]
  },
  {
   "cell_type": "code",
   "execution_count": 48,
   "metadata": {},
   "outputs": [],
   "source": [
    "train_df = train_df[train_df['1st_and_2nd'] < 4000]\n"
   ]
  },
  {
   "cell_type": "code",
   "execution_count": 49,
   "metadata": {},
   "outputs": [
    {
     "name": "stdout",
     "output_type": "stream",
     "text": [
      "(878, 178) (2049, 188)\n"
     ]
    }
   ],
   "source": [
    "print(test_df.shape, train_df.shape)"
   ]
  },
  {
   "cell_type": "code",
   "execution_count": 50,
   "metadata": {},
   "outputs": [
    {
     "data": {
      "text/plain": [
       "Index(['lot_shape', 'utilities', 'land_slope', 'overall_qual', 'overall_cond',\n",
       "       'exter_cond', 'bsmt_qual', 'bsmt_cond', 'bsmt_exposure',\n",
       "       'bsmtfin_type_1',\n",
       "       ...\n",
       "       'half_bath', 'bedroom_abvgr', 'kitchen_abvgr', 'totrms_abvgrd',\n",
       "       'fireplaces', 'garage_yr_blt', 'garage_cars', 'garage_area',\n",
       "       '1st_and_2nd', 'alt_housing_options'],\n",
       "      dtype='object', length=178)"
      ]
     },
     "execution_count": 50,
     "metadata": {},
     "output_type": "execute_result"
    }
   ],
   "source": [
    "test_df.columns"
   ]
  },
  {
   "cell_type": "code",
   "execution_count": 51,
   "metadata": {},
   "outputs": [
    {
     "data": {
      "text/plain": [
       "array([0, 1], dtype=int64)"
      ]
     },
     "execution_count": 51,
     "metadata": {},
     "output_type": "execute_result"
    }
   ],
   "source": [
    "train_df['alt_housing_options'].unique()"
   ]
  },
  {
   "cell_type": "code",
   "execution_count": 52,
   "metadata": {},
   "outputs": [],
   "source": [
    "corr = train_df[['street_pave', 'central_air_y', 'bsmt_qual', 'kitchen_qual', \n",
    "             'fireplace_qu','bsmt_exposure', 'heating_qc', \n",
    "             'bsmt_cond', 'year_built', 'bsmt_full_bath', 'full_bath', \n",
    "             'year_remod/add', 'mas_vnr_area', 'total_bsmt_sf', \n",
    "             '1st_and_2nd', 'gr_liv_area', 'garage_cars','sale_price']]"
   ]
  },
  {
   "cell_type": "markdown",
   "metadata": {},
   "source": [
    "## Model it "
   ]
  },
  {
   "cell_type": "code",
   "execution_count": 53,
   "metadata": {},
   "outputs": [],
   "source": [
    "\n",
    "X = train_df[['street_pave', 'central_air_y', 'overall_qual', 'bsmt_qual', 'kitchen_qual', \n",
    "             'fireplace_qu','bsmt_exposure', 'heating_qc', \n",
    "             'year_built', 'bsmt_full_bath', 'full_bath', \n",
    "             'year_remod/add', 'mas_vnr_area', 'total_bsmt_sf', \n",
    "             '1st_and_2nd', 'gr_liv_area', 'garage_cars', \n",
    "            'alt_housing_options']]\n",
    "y = train_df['sale_price']\n"
   ]
  },
  {
   "cell_type": "code",
   "execution_count": 54,
   "metadata": {},
   "outputs": [],
   "source": [
    "X_train, X_test, y_train, y_test = train_test_split(X,\n",
    "                                                    y,\n",
    "                                                    test_size = 0.25,\n",
    "                                                    random_state = 42)"
   ]
  },
  {
   "cell_type": "code",
   "execution_count": null,
   "metadata": {},
   "outputs": [],
   "source": []
  },
  {
   "cell_type": "code",
   "execution_count": 55,
   "metadata": {},
   "outputs": [],
   "source": [
    "# Nominal features that matter \n",
    "#'street_pave', 'ms_zoning_rl', 'alley_no_alley', 'land_contour_lvl', 'condition_1_norm',\n",
    " #           'bldg_type_1fam', 'roof_style_gable', 'roof_matl_compshg', 'mas_vnr_type_none',\n",
    "  #         'foundation_cblock','foundation_pconc', 'heating_gasa', 'central_air_y', 'garage_type_attchd', \n",
    "   #        'sale_type_wd_'"
   ]
  },
  {
   "cell_type": "markdown",
   "metadata": {},
   "source": [
    "# Create poly features "
   ]
  },
  {
   "cell_type": "code",
   "execution_count": 56,
   "metadata": {},
   "outputs": [],
   "source": [
    "#poly = PolynomialFeatures(2, interaction_only=True)\n"
   ]
  },
  {
   "cell_type": "code",
   "execution_count": 57,
   "metadata": {},
   "outputs": [],
   "source": [
    "#P_train = poly.fit_transform(X_train)"
   ]
  },
  {
   "cell_type": "code",
   "execution_count": 58,
   "metadata": {},
   "outputs": [],
   "source": [
    "#P_test = poly.fit_transform(X_test)"
   ]
  },
  {
   "cell_type": "code",
   "execution_count": 59,
   "metadata": {},
   "outputs": [],
   "source": [
    "#P_train.shape"
   ]
  },
  {
   "cell_type": "markdown",
   "metadata": {},
   "source": [
    "# SCALE"
   ]
  },
  {
   "cell_type": "code",
   "execution_count": 60,
   "metadata": {},
   "outputs": [],
   "source": [
    "# variaable for scaling my test data set \n",
    "XX = test_df[['street_pave', 'central_air_y', 'overall_qual', 'bsmt_qual', 'kitchen_qual', \n",
    "             'fireplace_qu','bsmt_exposure', 'heating_qc', \n",
    "             'year_built', 'bsmt_full_bath', 'full_bath', \n",
    "             'year_remod/add', 'mas_vnr_area', 'total_bsmt_sf', \n",
    "             '1st_and_2nd', 'gr_liv_area', 'garage_cars', \n",
    "            'alt_housing_options']]"
   ]
  },
  {
   "cell_type": "code",
   "execution_count": 61,
   "metadata": {},
   "outputs": [],
   "source": [
    "# variable for scaling alternative feature selelections\n",
    "#XXX = train_df[['alley_no_alley','roof_matl_compshg', 'mas_vnr_type_none',\n",
    "         #   'foundation_pconc', 'central_air_y', \n",
    "          # 'sale_type_wd_', 'overall_qual', 'bsmt_qual', 'kitchen_qual', \n",
    "           #  'fireplace_qu','bsmt_exposure', 'heating_qc', \n",
    "            # 'bsmt_cond', 'year_built', 'bsmt_full_bath', 'full_bath', \n",
    "             ##'1st_and_2nd', 'gr_liv_area', 'garage_cars']]"
   ]
  },
  {
   "cell_type": "code",
   "execution_count": 62,
   "metadata": {},
   "outputs": [],
   "source": [
    "sc = StandardScaler()\n"
   ]
  },
  {
   "cell_type": "code",
   "execution_count": 63,
   "metadata": {},
   "outputs": [],
   "source": [
    "Z_train = sc.fit_transform(X_train) "
   ]
  },
  {
   "cell_type": "code",
   "execution_count": 64,
   "metadata": {},
   "outputs": [],
   "source": [
    "Z_test = sc.transform(X_test)"
   ]
  },
  {
   "cell_type": "code",
   "execution_count": 65,
   "metadata": {},
   "outputs": [],
   "source": [
    "# scale test_df for kaggle\n",
    "zz_test = sc.transform(XX)"
   ]
  },
  {
   "cell_type": "markdown",
   "metadata": {},
   "source": [
    "# Model"
   ]
  },
  {
   "cell_type": "code",
   "execution_count": 66,
   "metadata": {},
   "outputs": [],
   "source": [
    "lr = LinearRegression()\n",
    "\n"
   ]
  },
  {
   "cell_type": "code",
   "execution_count": 67,
   "metadata": {},
   "outputs": [
    {
     "data": {
      "text/plain": [
       "LinearRegression()"
      ]
     },
     "execution_count": 67,
     "metadata": {},
     "output_type": "execute_result"
    }
   ],
   "source": [
    "lr.fit(Z_train, y_train)"
   ]
  },
  {
   "cell_type": "code",
   "execution_count": 68,
   "metadata": {},
   "outputs": [
    {
     "data": {
      "text/plain": [
       "0.8638700254714737"
      ]
     },
     "execution_count": 68,
     "metadata": {},
     "output_type": "execute_result"
    }
   ],
   "source": [
    "lr.score(Z_train, y_train)"
   ]
  },
  {
   "cell_type": "code",
   "execution_count": 69,
   "metadata": {
    "scrolled": true
   },
   "outputs": [
    {
     "data": {
      "text/plain": [
       "0.8739604061218293"
      ]
     },
     "execution_count": 69,
     "metadata": {},
     "output_type": "execute_result"
    }
   ],
   "source": [
    "lr.score(Z_test, y_test)"
   ]
  },
  {
   "cell_type": "code",
   "execution_count": 70,
   "metadata": {},
   "outputs": [
    {
     "data": {
      "text/plain": [
       "array([110342.79930885, 273457.47062686, 117441.333443  , 130025.34401215,\n",
       "       106813.83188349, 274646.22655299, 196068.63000281, 197517.15387741,\n",
       "       265328.81404719, 151986.55654393, 212214.98267638, 291397.69762342,\n",
       "       104372.57868597, 124962.59082025, 260864.77666641,  75193.3060248 ,\n",
       "       239368.91649229, 203541.42164232, 113942.64087412, 273601.19705765,\n",
       "       169337.19288665, 102032.45069304, 122536.94630216, 231705.62580883,\n",
       "       152966.55653643, 163253.79751001, 101629.50030228, 214341.13793012,\n",
       "       208887.49023096, 109662.23999976, 109648.78875568, 212405.42208748,\n",
       "       141080.98317037, 236190.97319974, 123169.66652689, 283461.56306987,\n",
       "       204445.54101742, 151179.27456395, 134320.91479974, 133234.920778  ,\n",
       "       178762.56201432, 206994.99069598, 107235.0429141 , 133036.41474825,\n",
       "       256973.25910618, 114419.12084373, 186436.75393208, 183301.696852  ,\n",
       "       103045.48113276, 118950.06583038, 111772.21526115, 133670.93436507,\n",
       "       191847.89048104,  50544.36077297, 138122.85053978, 137265.53110008,\n",
       "       130751.5555004 , 109094.90322797, 371741.77617583, 115322.93385378,\n",
       "       201089.59128765, 343169.86371802, 131010.24915871, 392821.70357035,\n",
       "       227040.87471067, 121392.58917539, 232079.77634555, 128557.66287286,\n",
       "       118394.66801523, 110251.56251964, 105687.25142249, 184320.4544043 ,\n",
       "       188515.15784274, 181615.04571588, 232331.54136699,  79622.78689424,\n",
       "       224177.77072189, 188388.24188106, 122570.7297162 , 138752.87080054,\n",
       "       309667.77448325, 152513.32679655, 112337.88345604, 201335.38635374,\n",
       "       170037.0129434 , 224354.52896437, 158530.97833142, 189206.57945797,\n",
       "       223913.47753968, 218592.66291967,  60812.04652645, 241372.84736846,\n",
       "       187890.90758492, 131964.17592492, 195018.48924255, 166879.04816292,\n",
       "        73868.79990664, 383854.41378019, 173992.8751317 , 235514.5158941 ,\n",
       "       227400.60072852, 176678.22288725, 162778.5729808 , 164533.78193534,\n",
       "       265684.38144212, 145930.72371597, 185398.14622616, 231270.09478587,\n",
       "       213496.93938128, 219130.52471414, 317067.13039397, 216256.5084807 ,\n",
       "       182268.00542134, 147476.9955198 , 127061.82538082, 166925.99450409,\n",
       "       183292.76469215, 175286.28575871, 171299.87484255, 199271.56178974,\n",
       "       143655.78610551, 206887.8048308 , 181627.08134201,  85682.34609588,\n",
       "       280384.17412648, 316038.55972681, 210621.13323371,  88442.75338583,\n",
       "       138724.87431296,  72757.00293629, 389154.15641142, 119001.94368936,\n",
       "       117606.46910825, 218438.19133596,  81024.23292118, 247356.27741639,\n",
       "       294583.76386206, 193731.25752528, 211948.00238376,  75251.06512586,\n",
       "       131165.62723097, 106157.45711224, 115198.22452846, 155678.70121981,\n",
       "       245992.48432582, 118503.86177002,  91843.41706973, 203425.57295583,\n",
       "       166620.14991478, 335025.44246953, 135364.38273781, 180084.00016219,\n",
       "       161069.06823397, 206277.86623334, 232467.19653516, 187537.28454923,\n",
       "       186623.22512949, 181259.073804  , 220189.30749191, 269244.97805977,\n",
       "       134611.48778407,  48057.58332452,  77339.77472782, 120892.0805632 ,\n",
       "       187135.65729784, 187493.32910831, 132552.72833506, 168714.15637706,\n",
       "       224748.29955062, 142514.64711237, 167996.28485587, 240570.36759431,\n",
       "       172494.15499562,  99827.43457018, 216611.09862535, 258927.62714804,\n",
       "       183273.78806791, 104922.37824373, 308134.91609585, 191665.95304871,\n",
       "       216322.67612786, 207456.52257878, 120952.8496806 , 217777.29837035,\n",
       "       117500.24974128, 103729.9614728 , 164581.17774247, 152748.91883312,\n",
       "       186707.52712271, 103001.1587687 , 179210.97929656, 179018.43164372,\n",
       "       105486.25146222, 380129.55446674, 226373.48660803, 180272.52893773,\n",
       "       145192.41842652, 170676.74528508, 183015.08796872, 175261.80596937,\n",
       "        78798.39640294, 110757.07571754, 137693.19821721, 318283.14205209,\n",
       "        87970.50861174, 227787.43229472, 302709.99580452,  81049.58001569,\n",
       "       146014.86753747, 226549.06504279, 239102.95131049,  94717.81347818,\n",
       "        62909.26387963, 303144.87421824, 154709.98614566, 201008.29639575,\n",
       "       159714.4334442 ,  26185.79398372, 178959.06733934, 211475.46991251,\n",
       "       175077.51565684, 273284.20028783, 258559.09917589, 366556.64013139,\n",
       "       305447.18009855, 130310.56927634, 348118.63646994, 274646.22655299,\n",
       "       252738.94198447, 153711.81057623, 141281.33444951, 215523.84964818,\n",
       "        99174.84932887, 130469.72269616, 183144.99939533, 233566.76858104,\n",
       "       115617.57432383, 223483.71698749, 163147.16158706, 103835.60940172,\n",
       "       285209.76195707, 120520.51928941, 129317.45044832, 173127.5462745 ,\n",
       "       278736.59807998, 396630.74857565, 149884.03463451, 205379.13462706,\n",
       "       272580.95450075, 177016.38877855, 171364.95521294, 203970.05334813,\n",
       "       163505.90465381, 119765.89601813, 171358.51963377, 186205.90549902,\n",
       "        50844.77898778, 156210.71135561, 196062.79247132, 316681.44254293,\n",
       "        83770.96981689, 137225.90840822,  83957.80546731, 174127.3298929 ,\n",
       "       150758.54822451,  54006.29615051, 181008.3329868 , 143621.39466044,\n",
       "       258276.81095619,  96346.46715019,  67600.17704103, 231624.13946506,\n",
       "       127144.96538948, 155300.95127612, 167612.65685662, 340086.43711292,\n",
       "        92897.23289675, 139731.72868625, 201167.37069575, 161645.14168327,\n",
       "       182474.13871556, 106168.76487639, 178667.50847332, 160732.47736328,\n",
       "       259124.99927301, 126560.70407683, 318542.30832461, 184556.83697344,\n",
       "       186011.95366425, 195396.91410232, 164603.75384097, 173755.88859508,\n",
       "       286089.32880145, 217272.40531547, 228570.16236953, 322182.19247072,\n",
       "       170825.92231845, 175535.02456657, 140796.37620064, 228140.18741432,\n",
       "        82414.90171303, 192492.2747178 , 190900.95516297, 179197.07763377,\n",
       "       178136.50834118, 223980.58844107, 127891.34620837, 131624.34150538,\n",
       "       174209.10927605, 214478.20772485, 293419.93666731, 191778.80241166,\n",
       "       137790.72582484, 140764.46129996, 127568.84288783, 117499.53579188,\n",
       "        67849.93296167, 165242.95933565, 106073.05885821, 188110.66837845,\n",
       "       111226.88422647, 295802.95833138, 378718.02247834, 149472.17663707,\n",
       "        84000.92542176, 308866.59189603, 193767.26984779, 203795.34730154,\n",
       "       270533.99954152, 270568.81547817, 218463.99841321, 116742.6493284 ,\n",
       "       317652.81004904, 184233.46126329, 306298.72020978, 178792.63866631,\n",
       "        72628.21018135, 299648.46342215,  50306.64416714, 255924.91149296,\n",
       "       124017.36341102, 191958.31187987, 122651.38728663, 283696.80273876,\n",
       "       191778.80241166, 126217.40701861, 170459.51346284,  54868.81294504,\n",
       "        97614.89473349, 130083.57065597,  68987.74314158, 328001.99262061,\n",
       "       179829.28058147, 166508.57212164, 243360.73677564, 156770.26557839,\n",
       "       205446.90563013, 148936.67587962, 137793.26834026, 120149.91103812,\n",
       "       102049.51199836, 145260.59270226, 236510.60837696, 238487.7246912 ,\n",
       "       137431.9256583 , 198088.21972121, 245001.90879692, 274159.98032804,\n",
       "       209862.45488145, 124666.48709844, 221747.25872788, 130896.70900096,\n",
       "       124046.42291692, 122114.59303389, 180410.89546963, 240954.19357823,\n",
       "       200175.08675359, 114409.82775651, 211775.43231966, 230362.81881087,\n",
       "       151758.23475055, 266812.04561698, 166443.93566137, 115973.56087508,\n",
       "       285596.76161665, 167856.97815432, 146683.14117259, 131489.45332812,\n",
       "       276316.68896824, 162660.12847673, 176958.61577832,  91070.52815697,\n",
       "       231878.41306072, 140822.95711067, 185332.53123893, 119509.48116645,\n",
       "       202926.07189513, 446893.49791038, 125894.40176935, 188213.30250977,\n",
       "       103916.63866609, 178041.02081814, 194502.27087844, 202618.47149001,\n",
       "       398876.49736538, 114852.97267442,  85291.49103703, 156258.49165657,\n",
       "       210867.26879242,  72628.21018135, 125944.36665031, 186968.08314181,\n",
       "        91876.0888515 , 203077.21505048, 308426.37003021, 220957.02379382,\n",
       "       105774.07191871, 139733.81335261,  -4388.73777307, 149295.8148665 ,\n",
       "       318346.95050367, 251811.30198052, 401013.44630945, 187869.61061369,\n",
       "       222133.74785879, 219856.21719772, 194155.77605775, 147929.57945408,\n",
       "       255938.34354827,  67726.21854699, 218655.8784315 , 139727.86819513,\n",
       "       134582.60155765, 140677.0140636 , 210696.89804649, 178843.71133633,\n",
       "        96833.48649481, 148705.13854426, 120157.04001728, 120428.8397451 ,\n",
       "       135859.652984  , 310615.11629454, 134962.70072549, 209096.1240288 ,\n",
       "        98115.5635737 , 162660.12847673, 292732.04310408, 184289.86786572,\n",
       "       128391.44497976, 181207.54910668, 210638.75415202, 208309.76954931,\n",
       "       125723.02756352, 414156.40807955, 146344.78050258, 111279.35759311,\n",
       "       144517.3618857 , 227321.35208981, 212647.84239648, 267790.06038948,\n",
       "       180653.14073662, 284664.23529313, 201836.23415569, 100416.25760504,\n",
       "       188492.74488298, 232090.87205298, 290407.14928639, 268273.84714579,\n",
       "       149375.26668123, 352009.16167994,  95604.84199841, 218153.23629246,\n",
       "       323452.2411668 , 344619.92594187,  78548.94000858, 140428.90021043,\n",
       "       231219.40055564,  98974.74932771, 188251.10022952, 204728.23691111,\n",
       "       114037.53948629, 157051.06862859, 204872.93369219, 171140.10330985,\n",
       "        71871.28918112, 193987.56775633,  81100.87068074, 142534.19215219,\n",
       "        89969.65965447,   4532.69552123, 134492.49003541, 312444.1865413 ,\n",
       "       167060.65763513, 255685.81917025,  95509.87300274, 271477.93233581,\n",
       "       193438.20151394, 154984.47237037, 105212.5129254 , 198510.61881397,\n",
       "       149308.56764011, 140356.79314662, 228443.27623311, 262069.41562884,\n",
       "       137246.5387709 , 203917.35057882, 242595.07980894, 379549.17090782,\n",
       "       110331.6681692 , 270549.85165672, 280654.92902532, 108162.04747019,\n",
       "       260313.78032896])"
      ]
     },
     "execution_count": 70,
     "metadata": {},
     "output_type": "execute_result"
    }
   ],
   "source": [
    "y_pred = lr.predict(Z_test)\n",
    "y_pred"
   ]
  },
  {
   "cell_type": "code",
   "execution_count": 71,
   "metadata": {},
   "outputs": [
    {
     "data": {
      "text/plain": [
       "<matplotlib.collections.PathCollection at 0x1c3500b11f0>"
      ]
     },
     "execution_count": 71,
     "metadata": {},
     "output_type": "execute_result"
    },
    {
     "data": {
      "image/png": "[encoded data removed]",
      "text/plain": [
       "<Figure size 432x288 with 1 Axes>"
      ]
     },
     "metadata": {
      "needs_background": "light"
     },
     "output_type": "display_data"
    }
   ],
   "source": [
    "# preds vs actual plot \n",
    "sns.regplot(y_pred, y_test, color='purple', ci=None)\n",
    "\n",
    "#plt.scatter(y_pred, y_test, c='purple', )\n",
    "plt.xlabel('Predicted Prices')\n",
    "plt.ylabel('Actual Prices')\n",
    "plt.title('Predicted Sale Prices vs. Actual Sale Prices')\n",
    "plt.scatter(y_pred, y_test)"
   ]
  },
  {
   "cell_type": "code",
   "execution_count": 72,
   "metadata": {},
   "outputs": [],
   "source": [
    "# calculate resids from my train set \n",
    "y_train_pred = lr.predict(Z_train)"
   ]
  },
  {
   "cell_type": "code",
   "execution_count": 73,
   "metadata": {},
   "outputs": [
    {
     "data": {
      "text/plain": [
       "28228.29700527099"
      ]
     },
     "execution_count": 73,
     "metadata": {},
     "output_type": "execute_result"
    }
   ],
   "source": [
    "# rmse of test data\n",
    "rmse = mean_squared_error(y_test, y_pred)\n",
    "rmse**.5"
   ]
  },
  {
   "cell_type": "code",
   "execution_count": 74,
   "metadata": {},
   "outputs": [
    {
     "data": {
      "text/plain": [
       "29220.681678887016"
      ]
     },
     "execution_count": 74,
     "metadata": {},
     "output_type": "execute_result"
    }
   ],
   "source": [
    "# rmse of train data \n",
    "rmse = mean_squared_error(y_train, y_train_pred)\n",
    "rmse**.5"
   ]
  },
  {
   "cell_type": "code",
   "execution_count": 75,
   "metadata": {},
   "outputs": [
    {
     "data": {
      "text/plain": [
       "array([145329.06547068, 194460.92383804, 239614.45162155, 121757.75012828,\n",
       "       207331.03923025,  89647.45225057, 116118.70963221, 181112.12934272,\n",
       "       201485.97253024, 168797.08670772, 167597.94946599, 140664.18392154,\n",
       "       181338.41853646, 291665.46862221, 187982.42586242, 132981.65052696,\n",
       "       145013.18442212, 138005.37868985, 216563.51332386, 216028.50887599,\n",
       "       182332.73982892, 133438.48087383, 221803.23371354, 186148.50880346,\n",
       "       207710.37406571, 128009.70449224, 147523.33719826, 171901.45377879,\n",
       "       202530.26187859,  51559.00248036, 101433.3205402 , 100621.51842119,\n",
       "       283030.40936522, 174284.6586445 , 246861.34886089, 201193.37167037,\n",
       "       140723.88443706,  86366.68254895, 132927.12281247, 212404.67785388,\n",
       "       176424.77793763, 235266.53281751, 184446.89664117, 172081.85599165,\n",
       "       252044.2477771 , 109287.46155406, 258341.1404338 , 130638.68394282,\n",
       "       136764.96387533, 135562.31470015, 125884.06351337, 218541.24596612,\n",
       "       286609.08653548, 156113.8605407 , 122941.21283931, 181378.20416302,\n",
       "       194267.17049678, 163686.4642069 , 174903.12055741, 257653.6281938 ,\n",
       "       338280.040264  , 126686.74900855, 183004.31827471, 186201.15968713,\n",
       "       194686.0087602 , 349361.73852129,  94856.40393762, 230089.88187644,\n",
       "        85509.72703399, 194128.98035357,  95777.72273025, 356280.6738416 ,\n",
       "       218224.60610614, 196800.48392727, 151590.50681918, 250199.96838837,\n",
       "       156055.13552282, 162961.77182428,  82791.36888881, 366237.68186317,\n",
       "       237098.28860795, 125040.66486965, 160377.09710474, 132854.2346832 ,\n",
       "       227827.716625  , 330695.59518055, 147851.80235745, 205060.98437952,\n",
       "       258521.97812458, 152053.51546246, 158419.25676684, 119364.93947352,\n",
       "       125420.2651269 , 221104.65569574, 129108.77928198, 161962.00659794,\n",
       "       213729.88395736, 249568.08582595, 216361.34828999, 238888.96739708,\n",
       "       327005.30958893, 203247.49934561, 134708.07114231, 453878.82986181,\n",
       "       167747.0247481 , 118413.14715363, 197770.95534413, 208417.87551965,\n",
       "       198980.80490763, 190113.21927155, 217872.65809378, 253204.62704602,\n",
       "       110791.66707839, 146887.2220347 , 261967.97851717, 485588.62210038,\n",
       "       144746.20624247, 129543.15082704, 350499.47140275, 214761.65384648,\n",
       "       390978.35252011, 325303.52132754, 303906.2306312 , 184668.825095  ,\n",
       "       163807.88591282, 367686.57508245, 125697.01424136, 157591.82215507,\n",
       "       138366.85415208, 290004.3556695 , 153999.90019371, 225901.45224982,\n",
       "       159706.18823992, 221565.78441701, 179028.01510002, 259350.55242503,\n",
       "       216780.37043621, 197923.26050972, 230089.88187644, 125041.65591426,\n",
       "       211607.16273093, 168382.08141889, 147679.24078039, 191807.10847626,\n",
       "        94117.1735913 , 173296.20488926, 169705.93376647, 161243.78206047,\n",
       "        59261.30923347, 244260.18648413, 220429.38276594, 186726.84372157,\n",
       "       131805.23675396, 143049.16866937, 121505.40046316, 145610.23549248,\n",
       "        86925.22357273, 161133.9264889 , 277478.4656583 , 290501.49273219,\n",
       "       260747.32409842, 131185.2398703 , 130186.56478585, 457698.81440082,\n",
       "       277606.53313176, 280503.25410683, 197954.02289418, 195736.80812715,\n",
       "       282694.30927944, 230931.12816671, 502962.16526632, 155215.52342652,\n",
       "       212763.70993308, 167233.3214628 , 230388.14823519, 208711.77686471,\n",
       "       123902.03403101, 198272.46891767,  88890.53125034, 156095.19581145,\n",
       "       167530.39390208, 226503.09869739, 287880.04336476, 204997.59642961,\n",
       "       175756.12965602, 134964.92660248, 227940.84512897, 236933.96255908,\n",
       "       141306.04694936,  54199.48926895, 192323.56253352, 144070.76363508,\n",
       "       120157.04668544, 109273.59742755, 204614.18563335, 175483.02457123,\n",
       "       300290.86780765, 156083.02564329, 143996.77582489, 117148.96525251,\n",
       "       311727.55204089, 213562.14047076, 142099.64276705, 207725.80839651,\n",
       "       157622.56477929,  82894.65591598, 155755.34800381, 151156.72244659,\n",
       "       236753.61125636, 249635.33102516, 209279.92024497, 222493.17628082,\n",
       "       138062.84205553, 294463.34883858, 298571.03540605, 213832.62980262,\n",
       "       265234.8810364 , 170012.50761905, 123724.63499579, 163701.23092715,\n",
       "       203354.54378   , 166166.72480929, 214942.07113528, 219562.88661046,\n",
       "       143818.69852416, 123860.8345176 , 288563.68713758, 245562.56691856,\n",
       "       148766.69083569, 314299.20723151, 192531.25156792,  89069.71067351,\n",
       "       184991.1630833 ,  93139.32892093, 314330.83368747, 176812.97199317,\n",
       "        97932.47070763, 399791.61512947, 347263.03680445, 208192.90031806,\n",
       "       274980.67401628, 179676.84605481, 325163.3963383 , 273602.78697408,\n",
       "       348922.00843661, 295251.14503881, 122949.69400658, 124125.12825288,\n",
       "       206686.0488842 , 306879.0487447 , 292179.82926796, 179816.69293916,\n",
       "       261314.1202178 , 253177.05572876, 223405.7272903 , 106662.49493992,\n",
       "        93800.18367022, 410762.47764981, 251849.21437072, 276581.60963296,\n",
       "       210430.24868353, 152982.62502502, 135434.16088454, 175468.74265568,\n",
       "       247375.21167324, 195777.14495596, 158733.60918249, 241474.14375789,\n",
       "       210739.81281716, 168485.18257776, 219398.74465886, 210587.6833052 ,\n",
       "       206134.11757995, 352916.75351191, 120390.32462748, 157065.50475783,\n",
       "       179679.37054595, 230104.91077689,  97487.46646661, 124091.95884973,\n",
       "       255401.57141322, 126586.40000866, 129636.06219071,  98431.95538357,\n",
       "       153283.86024615, 237852.29007825, 210137.6556003 , 121925.99633646,\n",
       "       120560.17968244, 157849.13749576, 117316.3196133 , 131075.47152489,\n",
       "        95772.90317599,  88242.28352979, 182496.41998356, 187204.68117773,\n",
       "       246262.52372652, 273576.64390718, 273544.92514725, 166997.07226069,\n",
       "       189536.09775935, 318805.87455418, 138375.36000152, 166490.87303441,\n",
       "        88618.58372463, 114654.52394494, 213021.38573377, 234408.14664344,\n",
       "       164721.5077729 , 125022.10338168, 232764.96268536, 226767.06089337,\n",
       "       264790.93163378, 314543.0966779 , 142088.50130169, 361632.0372307 ,\n",
       "       365715.61625802, 280164.07129869, 273359.46851838, 163757.06715615,\n",
       "        71239.37359676, 138120.60576281, 174046.13978071, 260819.37946178,\n",
       "       137119.78748392, 120726.32560657, 161494.11538905, 202159.24159057,\n",
       "       230001.14650306, 164963.94970956, 210385.35619146, 219852.89484309,\n",
       "       176945.99606662, 216367.32538787,  92007.60159058, 186616.78266215,\n",
       "        89670.78283265, 119413.94438077, 154321.27470878, 191602.60801156,\n",
       "       222727.76728472, 130709.41370528, 133417.17256937, 207098.26345104,\n",
       "       305094.87550458, 261483.94245981, 196258.38933539, 115973.27383326,\n",
       "       242526.75226912, 169484.76758229, 172090.84306362, 183688.30378896,\n",
       "       137205.9460307 , 297566.5922053 , 147385.15201757, 299544.94246324,\n",
       "       182210.44111592, 245088.41003146, 271083.61628561, 119261.35168567,\n",
       "       156693.58288494, 169598.74412325,  86402.94630375, 189598.34321871,\n",
       "       229591.04764733, 294796.75136285, 220440.68287139, 244011.869271  ,\n",
       "       237882.2505451 , 132619.31437122, 241268.62700719, 124397.79615555,\n",
       "       182310.67455383, 415652.6277233 , 160340.09671577, 314200.64108495,\n",
       "       190449.59233474, 282392.54347914, 225551.65318353, 155008.36108523,\n",
       "       156432.58152759, 179894.36253691, 333102.32238486, 326649.20132606,\n",
       "       249098.78027095, 225961.65844441, 189214.57082144, 217742.84953633,\n",
       "       145084.85220759, 146736.49587854, 119638.52644149, 299985.90006387,\n",
       "       176366.63079464, 151136.02035528, 212039.44825092,  83204.97506205,\n",
       "       212117.76433425, 207470.36051006, 148635.14331316,  78696.513091  ,\n",
       "       216027.23119886, 252031.04070902, 136720.08236728, 296786.46295586,\n",
       "       150054.68409948, 124140.03852024, 159938.43514461, 257411.20348186,\n",
       "       313322.50665379, 139397.18753161, 138303.6900322 , 162529.31479036,\n",
       "       283328.36613313, 140934.72468252, 297276.14942195, 355008.22242126,\n",
       "       130822.30002014, 252628.05232089, 110822.67488308, 204431.75723235,\n",
       "       264926.11494847, 138497.26169839, 252316.18839297, 131058.25329967,\n",
       "       249614.6916949 , 364580.30319992, 230699.27357799, 239254.22774912,\n",
       "       157427.28097658, 311686.92289948, 112258.36734877, 153579.30262266,\n",
       "       137129.43722782, 230672.88900654, 129251.6426069 , 318590.01096514,\n",
       "       214302.45828497, 180216.73889267, 158825.06721015, 208131.17379494,\n",
       "       222828.71944126, 151125.3946023 , 134644.72091193, 182331.85548114,\n",
       "       190126.42162632, 262225.62740391,  86211.00795408, 115737.68606564,\n",
       "       320156.76359569, 172971.74599609, 257571.82591664, 310251.71299228,\n",
       "       235470.37530966, 191125.59853267, 208657.13636783, 250527.73425976,\n",
       "       259448.5176146 , 122209.26238799, 267165.41664993, 136366.5004896 ,\n",
       "       175294.15442999, 139438.02277847, 167000.98379884, 540370.26476578,\n",
       "       142212.22015479, 258027.83757906, 267041.68444991, 272129.24108759,\n",
       "       115483.67619   , 134665.54244665, 169262.47897299, 266599.93030034,\n",
       "       207167.76890989, 125212.33847971, 273815.16425388, 251326.86105717,\n",
       "       100680.51071214, 170322.09989018, 112258.55811605, 210557.15951922,\n",
       "        79795.8334077 , 266263.0619493 , 134193.96563413, 200936.80221031,\n",
       "       295008.73124864, 169295.61553025, 197664.99161767, 214335.30990071,\n",
       "       212876.98921602, 146196.3541683 , 184245.13433842, 234218.82458511,\n",
       "       201076.7465331 , 255916.65647913, 339802.87944318, 210915.13527823,\n",
       "       133096.1316791 , 155410.48953758, 205088.82413589, 131621.4638961 ,\n",
       "       203169.47932685, 254377.08513765, 219482.50730401, 169140.77509523,\n",
       "       265215.42908065, 140303.0746563 , 272232.89245277, 115101.74633295,\n",
       "       120491.33671309, 284039.25831527, 125863.4551195 , 162400.62000178,\n",
       "       142406.34556825, 144923.85684302,  37771.55727817, 222794.32836867,\n",
       "       182423.96241712, 209520.66349175, 327170.45146076, 297647.89645865,\n",
       "       118342.72002439, 148241.89545653, 143178.91105542, 134537.84203735,\n",
       "       258432.71109037, 411868.14639931, 214277.42594684, 109140.23522364,\n",
       "       160672.84635343,  73685.31043039, 120852.19617736, 235786.39252305,\n",
       "       156682.84125745, 208614.41295405, 195326.50726111, 168140.5297976 ,\n",
       "        82313.61464776, 251946.31453223, 143229.93697882, 198786.63698676,\n",
       "       178380.47423279, 103867.29778039,  90278.09735089, 180159.8398717 ,\n",
       "       260578.69544799, 338798.76876707, 280405.85583357, 139335.09166331,\n",
       "       119911.21646155, 275700.70134255, 158062.39990249, 323480.77297935,\n",
       "        89231.81261772, 210334.95860015, 248797.83558074, 100058.33400505,\n",
       "       121671.24613163, 157085.27817965, 126144.14067949, 183000.24072768,\n",
       "       121044.38928923, 172277.49994378, 198377.89666075, 169509.24938785,\n",
       "       130477.5017464 , 146813.67071379, 160954.13223313, 240927.84039998,\n",
       "       142391.4279468 , 161607.71033079, 181658.83983012, 148633.5036234 ,\n",
       "        98411.69437229, 162528.89323837, 214015.89882842, 134121.80085001,\n",
       "       193308.94364346, 180018.94134201, 218187.8081642 , 116876.93626185,\n",
       "       166517.36961143, 188188.85102945, 325582.57039468, 126700.15390761,\n",
       "       175274.37163392, 185709.33973666, 187354.03341345, 119269.32353059,\n",
       "       317384.88400774, 248247.7159378 , 132889.49149405, 113831.11936225,\n",
       "       160064.56246076, 158214.14209707, 361337.77391524, 237061.91041245,\n",
       "       147436.5671959 , 140061.22511245, 120313.99306509, 357771.66062405,\n",
       "       155814.46961236, 230052.45984733, 135528.35637953, 198284.92811958,\n",
       "       252307.23174858,  97671.60730931, 132366.99276636, 121910.22446095,\n",
       "       199361.99468685, 138509.51464589, 142458.64669712, 367913.4911223 ,\n",
       "       264162.76313102, 113862.06155393, 147240.37177608,  29758.83719919,\n",
       "       228180.24127842, 315332.04091681,  53035.46544315, 180075.01199197,\n",
       "       234501.71271686, 113380.52600006, 192252.17567211, 127228.26827287,\n",
       "       164397.53493316, 160046.17598077, 204487.42839828, 138041.2364787 ,\n",
       "       335098.20009789, 174740.6569361 , 197026.53152621, 230026.13993024,\n",
       "       150234.1036741 ,  92501.16144951, 163463.01286055, 233696.35473074,\n",
       "       197215.17551167, 194777.34788682, 162329.92750832, 157363.74093119,\n",
       "       333053.89914927, 149707.39335598, 234032.50829246, 286862.45749936,\n",
       "       175933.7105878 ,  54235.24871216, 285222.03763814, 193021.67208306,\n",
       "       170583.29620553, 194668.09962188, 147068.59723384, 132337.98848793,\n",
       "       123544.6282297 , 160565.07515375,  53501.34968407, 161998.84871019,\n",
       "       242079.06094759, 186121.52171655, 287455.63498156, 228540.57476398,\n",
       "       174826.78339919, 217924.69093941, 210770.83998951, 256878.22932794,\n",
       "       406938.24890198, 249125.81867371, 235989.96066008, 200720.51443035,\n",
       "       176176.14172582, 309294.22374217, 228746.19395635, 305313.84782675,\n",
       "       238648.91433682, 162313.48463834, 134794.97832906, 157639.07331518,\n",
       "       170693.95241326,  90025.91275068, 157309.97979662, 125528.44752769,\n",
       "       363211.5765504 , 216698.55907484, 195966.25291096, 264914.39410123,\n",
       "       210612.79785593, 171272.39438993, 246527.93377823, 372583.83594973,\n",
       "       162799.23319608, 197887.10024647,  81403.48062273, 149826.17506362,\n",
       "       265581.24426888, 133439.90004135, 258366.16137489, 178526.81397883,\n",
       "       230423.4206638 , 351863.23782413, 121936.49033943, 292830.51548539,\n",
       "       192140.72178769, 176415.54865644, 153293.58342334, 112295.49043778,\n",
       "       323632.94016384, 303383.45505582, 182520.23022379, 162267.6208845 ,\n",
       "       105389.45570322, 324242.93803287, 243185.10842257,  98933.39046905,\n",
       "       153775.62685835, 156403.3675238 , 146171.79384037, 207500.93348688,\n",
       "       324514.37934904, 248585.6582778 , 226327.16793192, 236848.50514975,\n",
       "       250823.26903215, 291815.51225842, 143513.20765361, 122323.12587883,\n",
       "       319872.53434927, 218315.21732209, 204270.27315645, 132502.78977305,\n",
       "       288682.63918198,  99287.32031306, 246307.52310348, 228908.95851371,\n",
       "       295945.46840965, 164356.04632763, 219622.07785131, 170021.0660034 ,\n",
       "       161710.08744777, 166038.5441824 , 144759.54560445, 139352.37508116,\n",
       "       256510.53579908, 215540.69054216, 196090.84172923, 125259.44884195,\n",
       "       176697.64395118, 207825.42182799, 207897.23475294, 253573.77923883,\n",
       "       137392.46675536, 335948.51310606, 279447.78115089, 184873.12129011,\n",
       "       151900.66007907, 200028.03701508, 156374.63624691, 173306.4598669 ,\n",
       "       426632.44930836,  96149.81443802, 169209.63371077, 225867.34420911,\n",
       "       171191.15599543, 252017.24900133, 148710.95962595, 247242.01105678,\n",
       "       174556.80795196, 320812.70213203, 188626.52556196, 226402.51151477,\n",
       "       339084.00761784, 194055.92579655, 258354.40076842, 174443.97224519,\n",
       "       167531.22785304, 229846.66256   , 131755.41262429, 167134.27413773,\n",
       "       236854.30520551, 141260.46003445, 134657.94001835, 217349.36519081,\n",
       "       204363.00453116, 384038.86058266, 122822.01705794, 124755.26652246,\n",
       "       122196.12660413, 179589.19644078, 295251.14503881, 125298.04072621,\n",
       "       288318.65693571, 182986.61975632, 223877.78461557, 269254.44263703,\n",
       "       209603.63110832, 320235.52397855, 181775.44339033, 231110.29935645,\n",
       "       192736.94339923, 239190.10311404, 266218.85918692, 257351.2186559 ,\n",
       "       140921.63206212, 122839.35104677, 181177.91570383, 135888.01068944,\n",
       "       260269.21932107, 112280.74070499, 129984.71068373, 213052.47686933,\n",
       "       158043.60872874, 127691.49044852, 151100.94051911, 351158.39657576,\n",
       "       182335.42186678, 192101.14754507, 229424.6641567 , 215682.23428975,\n",
       "       254297.12746323,  91188.855236  , 121893.94376397, 162536.90284805,\n",
       "       187389.36377266, 114423.50952898, 396355.642519  , 123161.38008878,\n",
       "       200191.69787215, 243164.21775682, 371361.93917292, 170146.27833251,\n",
       "       207998.52466658, 168481.71125277, 192244.74268962, 172091.74870228,\n",
       "       314087.82994637, 228294.94955022, 153428.97785264, 141180.85522782,\n",
       "       323136.61724834, 166306.34298205, 144032.65585187, 139932.32833899,\n",
       "       236826.67667372, 200164.24146454, 269789.76051458, 163858.66306516,\n",
       "       189973.99110956, 183547.15771534, 301768.59250676, 251102.08253967,\n",
       "       126779.40493818, 183381.41917947, 177651.28571636, 178958.66106924,\n",
       "       163016.74590137, 153498.83210401, 187024.83247937, 121065.70858435,\n",
       "       241768.0508422 , 111454.50507159, 220512.74771942, 126750.09440269,\n",
       "       354788.79423935, 158389.14615148, 140934.96327363, 204656.5385839 ,\n",
       "       208174.21429354, 219372.16625336, 208511.47339442, 251714.45013904,\n",
       "       198167.30881326, 211564.26302196, 272638.82931849, 326953.06961929,\n",
       "       229291.65961512, 212569.79425298, 248576.19241886, 147115.48215079,\n",
       "       108516.8704206 , 133113.47813547])"
      ]
     },
     "execution_count": 75,
     "metadata": {},
     "output_type": "execute_result"
    }
   ],
   "source": [
    "# kaggle predictions for submission\n",
    "kaggle_pred = lr.predict(zz_test)\n",
    "kaggle_pred"
   ]
  },
  {
   "cell_type": "code",
   "execution_count": 76,
   "metadata": {
    "scrolled": true
   },
   "outputs": [
    {
     "data": {
      "text/html": [
       "<div>\n",
       "<style scoped>\n",
       "    .dataframe tbody tr th:only-of-type {\n",
       "        vertical-align: middle;\n",
       "    }\n",
       "\n",
       "    .dataframe tbody tr th {\n",
       "        vertical-align: top;\n",
       "    }\n",
       "\n",
       "    .dataframe thead th {\n",
       "        text-align: right;\n",
       "    }\n",
       "</style>\n",
       "<table border=\"1\" class=\"dataframe\">\n",
       "  <thead>\n",
       "    <tr style=\"text-align: right;\">\n",
       "      <th></th>\n",
       "      <th>lot_shape</th>\n",
       "      <th>utilities</th>\n",
       "      <th>land_slope</th>\n",
       "      <th>overall_qual</th>\n",
       "      <th>overall_cond</th>\n",
       "      <th>exter_cond</th>\n",
       "      <th>bsmt_qual</th>\n",
       "      <th>bsmt_cond</th>\n",
       "      <th>bsmt_exposure</th>\n",
       "      <th>bsmtfin_type_1</th>\n",
       "      <th>...</th>\n",
       "      <th>kitchen_abvgr</th>\n",
       "      <th>totrms_abvgrd</th>\n",
       "      <th>fireplaces</th>\n",
       "      <th>garage_yr_blt</th>\n",
       "      <th>garage_cars</th>\n",
       "      <th>garage_area</th>\n",
       "      <th>1st_and_2nd</th>\n",
       "      <th>alt_housing_options</th>\n",
       "      <th>SalePrice</th>\n",
       "      <th>Id</th>\n",
       "    </tr>\n",
       "  </thead>\n",
       "  <tbody>\n",
       "    <tr>\n",
       "      <th>0</th>\n",
       "      <td>4</td>\n",
       "      <td>3</td>\n",
       "      <td>3</td>\n",
       "      <td>6</td>\n",
       "      <td>8</td>\n",
       "      <td>2</td>\n",
       "      <td>3</td>\n",
       "      <td>4</td>\n",
       "      <td>2</td>\n",
       "      <td>2</td>\n",
       "      <td>...</td>\n",
       "      <td>2</td>\n",
       "      <td>9</td>\n",
       "      <td>0</td>\n",
       "      <td>1910.0</td>\n",
       "      <td>1</td>\n",
       "      <td>440</td>\n",
       "      <td>1928</td>\n",
       "      <td>1</td>\n",
       "      <td>145329.065471</td>\n",
       "      <td>2658</td>\n",
       "    </tr>\n",
       "    <tr>\n",
       "      <th>1</th>\n",
       "      <td>1</td>\n",
       "      <td>3</td>\n",
       "      <td>3</td>\n",
       "      <td>5</td>\n",
       "      <td>4</td>\n",
       "      <td>3</td>\n",
       "      <td>5</td>\n",
       "      <td>4</td>\n",
       "      <td>2</td>\n",
       "      <td>2</td>\n",
       "      <td>...</td>\n",
       "      <td>2</td>\n",
       "      <td>10</td>\n",
       "      <td>0</td>\n",
       "      <td>1977.0</td>\n",
       "      <td>2</td>\n",
       "      <td>580</td>\n",
       "      <td>1967</td>\n",
       "      <td>1</td>\n",
       "      <td>194460.923838</td>\n",
       "      <td>2718</td>\n",
       "    </tr>\n",
       "    <tr>\n",
       "      <th>2</th>\n",
       "      <td>1</td>\n",
       "      <td>3</td>\n",
       "      <td>3</td>\n",
       "      <td>7</td>\n",
       "      <td>5</td>\n",
       "      <td>3</td>\n",
       "      <td>5</td>\n",
       "      <td>5</td>\n",
       "      <td>4</td>\n",
       "      <td>7</td>\n",
       "      <td>...</td>\n",
       "      <td>1</td>\n",
       "      <td>7</td>\n",
       "      <td>1</td>\n",
       "      <td>2006.0</td>\n",
       "      <td>2</td>\n",
       "      <td>426</td>\n",
       "      <td>1496</td>\n",
       "      <td>0</td>\n",
       "      <td>239614.451622</td>\n",
       "      <td>2414</td>\n",
       "    </tr>\n",
       "    <tr>\n",
       "      <th>3</th>\n",
       "      <td>4</td>\n",
       "      <td>3</td>\n",
       "      <td>3</td>\n",
       "      <td>5</td>\n",
       "      <td>6</td>\n",
       "      <td>3</td>\n",
       "      <td>4</td>\n",
       "      <td>4</td>\n",
       "      <td>2</td>\n",
       "      <td>2</td>\n",
       "      <td>...</td>\n",
       "      <td>1</td>\n",
       "      <td>5</td>\n",
       "      <td>0</td>\n",
       "      <td>1935.0</td>\n",
       "      <td>2</td>\n",
       "      <td>480</td>\n",
       "      <td>968</td>\n",
       "      <td>0</td>\n",
       "      <td>121757.750128</td>\n",
       "      <td>1989</td>\n",
       "    </tr>\n",
       "    <tr>\n",
       "      <th>4</th>\n",
       "      <td>1</td>\n",
       "      <td>3</td>\n",
       "      <td>3</td>\n",
       "      <td>6</td>\n",
       "      <td>5</td>\n",
       "      <td>3</td>\n",
       "      <td>5</td>\n",
       "      <td>4</td>\n",
       "      <td>2</td>\n",
       "      <td>5</td>\n",
       "      <td>...</td>\n",
       "      <td>1</td>\n",
       "      <td>6</td>\n",
       "      <td>2</td>\n",
       "      <td>1963.0</td>\n",
       "      <td>2</td>\n",
       "      <td>514</td>\n",
       "      <td>1394</td>\n",
       "      <td>0</td>\n",
       "      <td>207331.039230</td>\n",
       "      <td>625</td>\n",
       "    </tr>\n",
       "    <tr>\n",
       "      <th>...</th>\n",
       "      <td>...</td>\n",
       "      <td>...</td>\n",
       "      <td>...</td>\n",
       "      <td>...</td>\n",
       "      <td>...</td>\n",
       "      <td>...</td>\n",
       "      <td>...</td>\n",
       "      <td>...</td>\n",
       "      <td>...</td>\n",
       "      <td>...</td>\n",
       "      <td>...</td>\n",
       "      <td>...</td>\n",
       "      <td>...</td>\n",
       "      <td>...</td>\n",
       "      <td>...</td>\n",
       "      <td>...</td>\n",
       "      <td>...</td>\n",
       "      <td>...</td>\n",
       "      <td>...</td>\n",
       "      <td>...</td>\n",
       "      <td>...</td>\n",
       "    </tr>\n",
       "    <tr>\n",
       "      <th>873</th>\n",
       "      <td>4</td>\n",
       "      <td>3</td>\n",
       "      <td>3</td>\n",
       "      <td>6</td>\n",
       "      <td>6</td>\n",
       "      <td>3</td>\n",
       "      <td>4</td>\n",
       "      <td>4</td>\n",
       "      <td>2</td>\n",
       "      <td>6</td>\n",
       "      <td>...</td>\n",
       "      <td>1</td>\n",
       "      <td>8</td>\n",
       "      <td>1</td>\n",
       "      <td>1974.0</td>\n",
       "      <td>2</td>\n",
       "      <td>488</td>\n",
       "      <td>1877</td>\n",
       "      <td>0</td>\n",
       "      <td>212569.794253</td>\n",
       "      <td>1662</td>\n",
       "    </tr>\n",
       "    <tr>\n",
       "      <th>874</th>\n",
       "      <td>4</td>\n",
       "      <td>3</td>\n",
       "      <td>3</td>\n",
       "      <td>6</td>\n",
       "      <td>7</td>\n",
       "      <td>4</td>\n",
       "      <td>4</td>\n",
       "      <td>4</td>\n",
       "      <td>2</td>\n",
       "      <td>5</td>\n",
       "      <td>...</td>\n",
       "      <td>1</td>\n",
       "      <td>9</td>\n",
       "      <td>1</td>\n",
       "      <td>1966.0</td>\n",
       "      <td>2</td>\n",
       "      <td>480</td>\n",
       "      <td>1988</td>\n",
       "      <td>0</td>\n",
       "      <td>248576.192419</td>\n",
       "      <td>1234</td>\n",
       "    </tr>\n",
       "    <tr>\n",
       "      <th>875</th>\n",
       "      <td>4</td>\n",
       "      <td>3</td>\n",
       "      <td>3</td>\n",
       "      <td>5</td>\n",
       "      <td>5</td>\n",
       "      <td>3</td>\n",
       "      <td>4</td>\n",
       "      <td>4</td>\n",
       "      <td>2</td>\n",
       "      <td>5</td>\n",
       "      <td>...</td>\n",
       "      <td>1</td>\n",
       "      <td>5</td>\n",
       "      <td>1</td>\n",
       "      <td>1968.0</td>\n",
       "      <td>1</td>\n",
       "      <td>322</td>\n",
       "      <td>1211</td>\n",
       "      <td>0</td>\n",
       "      <td>147115.482151</td>\n",
       "      <td>1373</td>\n",
       "    </tr>\n",
       "    <tr>\n",
       "      <th>876</th>\n",
       "      <td>4</td>\n",
       "      <td>3</td>\n",
       "      <td>3</td>\n",
       "      <td>4</td>\n",
       "      <td>6</td>\n",
       "      <td>3</td>\n",
       "      <td>4</td>\n",
       "      <td>4</td>\n",
       "      <td>2</td>\n",
       "      <td>6</td>\n",
       "      <td>...</td>\n",
       "      <td>1</td>\n",
       "      <td>5</td>\n",
       "      <td>0</td>\n",
       "      <td>1974.0</td>\n",
       "      <td>2</td>\n",
       "      <td>528</td>\n",
       "      <td>864</td>\n",
       "      <td>0</td>\n",
       "      <td>108516.870421</td>\n",
       "      <td>1672</td>\n",
       "    </tr>\n",
       "    <tr>\n",
       "      <th>877</th>\n",
       "      <td>4</td>\n",
       "      <td>3</td>\n",
       "      <td>3</td>\n",
       "      <td>5</td>\n",
       "      <td>5</td>\n",
       "      <td>4</td>\n",
       "      <td>4</td>\n",
       "      <td>4</td>\n",
       "      <td>2</td>\n",
       "      <td>5</td>\n",
       "      <td>...</td>\n",
       "      <td>1</td>\n",
       "      <td>5</td>\n",
       "      <td>2</td>\n",
       "      <td>1955.0</td>\n",
       "      <td>1</td>\n",
       "      <td>390</td>\n",
       "      <td>925</td>\n",
       "      <td>0</td>\n",
       "      <td>133113.478135</td>\n",
       "      <td>1939</td>\n",
       "    </tr>\n",
       "  </tbody>\n",
       "</table>\n",
       "<p>878 rows × 180 columns</p>\n",
       "</div>"
      ],
      "text/plain": [
       "     lot_shape  utilities  land_slope  overall_qual  overall_cond  exter_cond  \\\n",
       "0            4          3           3             6             8           2   \n",
       "1            1          3           3             5             4           3   \n",
       "2            1          3           3             7             5           3   \n",
       "3            4          3           3             5             6           3   \n",
       "4            1          3           3             6             5           3   \n",
       "..         ...        ...         ...           ...           ...         ...   \n",
       "873          4          3           3             6             6           3   \n",
       "874          4          3           3             6             7           4   \n",
       "875          4          3           3             5             5           3   \n",
       "876          4          3           3             4             6           3   \n",
       "877          4          3           3             5             5           4   \n",
       "\n",
       "     bsmt_qual  bsmt_cond  bsmt_exposure  bsmtfin_type_1  ...  kitchen_abvgr  \\\n",
       "0            3          4              2               2  ...              2   \n",
       "1            5          4              2               2  ...              2   \n",
       "2            5          5              4               7  ...              1   \n",
       "3            4          4              2               2  ...              1   \n",
       "4            5          4              2               5  ...              1   \n",
       "..         ...        ...            ...             ...  ...            ...   \n",
       "873          4          4              2               6  ...              1   \n",
       "874          4          4              2               5  ...              1   \n",
       "875          4          4              2               5  ...              1   \n",
       "876          4          4              2               6  ...              1   \n",
       "877          4          4              2               5  ...              1   \n",
       "\n",
       "     totrms_abvgrd  fireplaces  garage_yr_blt  garage_cars  garage_area  \\\n",
       "0                9           0         1910.0            1          440   \n",
       "1               10           0         1977.0            2          580   \n",
       "2                7           1         2006.0            2          426   \n",
       "3                5           0         1935.0            2          480   \n",
       "4                6           2         1963.0            2          514   \n",
       "..             ...         ...            ...          ...          ...   \n",
       "873              8           1         1974.0            2          488   \n",
       "874              9           1         1966.0            2          480   \n",
       "875              5           1         1968.0            1          322   \n",
       "876              5           0         1974.0            2          528   \n",
       "877              5           2         1955.0            1          390   \n",
       "\n",
       "     1st_and_2nd  alt_housing_options      SalePrice    Id  \n",
       "0           1928                    1  145329.065471  2658  \n",
       "1           1967                    1  194460.923838  2718  \n",
       "2           1496                    0  239614.451622  2414  \n",
       "3            968                    0  121757.750128  1989  \n",
       "4           1394                    0  207331.039230   625  \n",
       "..           ...                  ...            ...   ...  \n",
       "873         1877                    0  212569.794253  1662  \n",
       "874         1988                    0  248576.192419  1234  \n",
       "875         1211                    0  147115.482151  1373  \n",
       "876          864                    0  108516.870421  1672  \n",
       "877          925                    0  133113.478135  1939  \n",
       "\n",
       "[878 rows x 180 columns]"
      ]
     },
     "execution_count": 76,
     "metadata": {},
     "output_type": "execute_result"
    }
   ],
   "source": [
    "# create column for submission \n",
    "test_df['SalePrice'] = kaggle_pred\n",
    "test_df['Id'] = df['Id']\n",
    "test_df"
   ]
  },
  {
   "cell_type": "code",
   "execution_count": 77,
   "metadata": {},
   "outputs": [],
   "source": [
    "kaggle_submission = test_df[['Id','SalePrice']].copy()"
   ]
  },
  {
   "cell_type": "code",
   "execution_count": 78,
   "metadata": {
    "scrolled": false
   },
   "outputs": [
    {
     "data": {
      "text/html": [
       "<div>\n",
       "<style scoped>\n",
       "    .dataframe tbody tr th:only-of-type {\n",
       "        vertical-align: middle;\n",
       "    }\n",
       "\n",
       "    .dataframe tbody tr th {\n",
       "        vertical-align: top;\n",
       "    }\n",
       "\n",
       "    .dataframe thead th {\n",
       "        text-align: right;\n",
       "    }\n",
       "</style>\n",
       "<table border=\"1\" class=\"dataframe\">\n",
       "  <thead>\n",
       "    <tr style=\"text-align: right;\">\n",
       "      <th></th>\n",
       "      <th>Id</th>\n",
       "      <th>SalePrice</th>\n",
       "    </tr>\n",
       "  </thead>\n",
       "  <tbody>\n",
       "    <tr>\n",
       "      <th>0</th>\n",
       "      <td>2658</td>\n",
       "      <td>145329.065471</td>\n",
       "    </tr>\n",
       "    <tr>\n",
       "      <th>1</th>\n",
       "      <td>2718</td>\n",
       "      <td>194460.923838</td>\n",
       "    </tr>\n",
       "    <tr>\n",
       "      <th>2</th>\n",
       "      <td>2414</td>\n",
       "      <td>239614.451622</td>\n",
       "    </tr>\n",
       "    <tr>\n",
       "      <th>3</th>\n",
       "      <td>1989</td>\n",
       "      <td>121757.750128</td>\n",
       "    </tr>\n",
       "    <tr>\n",
       "      <th>4</th>\n",
       "      <td>625</td>\n",
       "      <td>207331.039230</td>\n",
       "    </tr>\n",
       "    <tr>\n",
       "      <th>...</th>\n",
       "      <td>...</td>\n",
       "      <td>...</td>\n",
       "    </tr>\n",
       "    <tr>\n",
       "      <th>873</th>\n",
       "      <td>1662</td>\n",
       "      <td>212569.794253</td>\n",
       "    </tr>\n",
       "    <tr>\n",
       "      <th>874</th>\n",
       "      <td>1234</td>\n",
       "      <td>248576.192419</td>\n",
       "    </tr>\n",
       "    <tr>\n",
       "      <th>875</th>\n",
       "      <td>1373</td>\n",
       "      <td>147115.482151</td>\n",
       "    </tr>\n",
       "    <tr>\n",
       "      <th>876</th>\n",
       "      <td>1672</td>\n",
       "      <td>108516.870421</td>\n",
       "    </tr>\n",
       "    <tr>\n",
       "      <th>877</th>\n",
       "      <td>1939</td>\n",
       "      <td>133113.478135</td>\n",
       "    </tr>\n",
       "  </tbody>\n",
       "</table>\n",
       "<p>878 rows × 2 columns</p>\n",
       "</div>"
      ],
      "text/plain": [
       "       Id      SalePrice\n",
       "0    2658  145329.065471\n",
       "1    2718  194460.923838\n",
       "2    2414  239614.451622\n",
       "3    1989  121757.750128\n",
       "4     625  207331.039230\n",
       "..    ...            ...\n",
       "873  1662  212569.794253\n",
       "874  1234  248576.192419\n",
       "875  1373  147115.482151\n",
       "876  1672  108516.870421\n",
       "877  1939  133113.478135\n",
       "\n",
       "[878 rows x 2 columns]"
      ]
     },
     "execution_count": 78,
     "metadata": {},
     "output_type": "execute_result"
    }
   ],
   "source": [
    "kaggle_submission"
   ]
  },
  {
   "cell_type": "code",
   "execution_count": 79,
   "metadata": {},
   "outputs": [],
   "source": [
    "kaggle_submission.to_csv('./submission/kaggle_submission.csv', index=False)"
   ]
  },
  {
   "cell_type": "markdown",
   "metadata": {},
   "source": [
    "# Analysis "
   ]
  },
  {
   "cell_type": "code",
   "execution_count": 80,
   "metadata": {},
   "outputs": [
    {
     "data": {
      "text/html": [
       "<div>\n",
       "<style scoped>\n",
       "    .dataframe tbody tr th:only-of-type {\n",
       "        vertical-align: middle;\n",
       "    }\n",
       "\n",
       "    .dataframe tbody tr th {\n",
       "        vertical-align: top;\n",
       "    }\n",
       "\n",
       "    .dataframe thead th {\n",
       "        text-align: right;\n",
       "    }\n",
       "</style>\n",
       "<table border=\"1\" class=\"dataframe\">\n",
       "  <thead>\n",
       "    <tr style=\"text-align: right;\">\n",
       "      <th></th>\n",
       "      <th>0</th>\n",
       "      <th>1</th>\n",
       "    </tr>\n",
       "  </thead>\n",
       "  <tbody>\n",
       "    <tr>\n",
       "      <th>0</th>\n",
       "      <td>street_pave</td>\n",
       "      <td>785.457530</td>\n",
       "    </tr>\n",
       "    <tr>\n",
       "      <th>1</th>\n",
       "      <td>central_air_y</td>\n",
       "      <td>-1824.769349</td>\n",
       "    </tr>\n",
       "    <tr>\n",
       "      <th>2</th>\n",
       "      <td>overall_qual</td>\n",
       "      <td>16997.448583</td>\n",
       "    </tr>\n",
       "    <tr>\n",
       "      <th>3</th>\n",
       "      <td>bsmt_qual</td>\n",
       "      <td>-1343.648396</td>\n",
       "    </tr>\n",
       "    <tr>\n",
       "      <th>4</th>\n",
       "      <td>kitchen_qual</td>\n",
       "      <td>11270.228417</td>\n",
       "    </tr>\n",
       "    <tr>\n",
       "      <th>5</th>\n",
       "      <td>fireplace_qu</td>\n",
       "      <td>4856.242067</td>\n",
       "    </tr>\n",
       "    <tr>\n",
       "      <th>6</th>\n",
       "      <td>bsmt_exposure</td>\n",
       "      <td>7511.783574</td>\n",
       "    </tr>\n",
       "    <tr>\n",
       "      <th>7</th>\n",
       "      <td>heating_qc</td>\n",
       "      <td>2228.510015</td>\n",
       "    </tr>\n",
       "    <tr>\n",
       "      <th>8</th>\n",
       "      <td>year_built</td>\n",
       "      <td>7557.800112</td>\n",
       "    </tr>\n",
       "    <tr>\n",
       "      <th>9</th>\n",
       "      <td>bsmt_full_bath</td>\n",
       "      <td>6391.243096</td>\n",
       "    </tr>\n",
       "    <tr>\n",
       "      <th>10</th>\n",
       "      <td>full_bath</td>\n",
       "      <td>-2011.438886</td>\n",
       "    </tr>\n",
       "    <tr>\n",
       "      <th>11</th>\n",
       "      <td>year_remod/add</td>\n",
       "      <td>2722.596339</td>\n",
       "    </tr>\n",
       "    <tr>\n",
       "      <th>12</th>\n",
       "      <td>mas_vnr_area</td>\n",
       "      <td>6593.581030</td>\n",
       "    </tr>\n",
       "    <tr>\n",
       "      <th>13</th>\n",
       "      <td>total_bsmt_sf</td>\n",
       "      <td>12331.151115</td>\n",
       "    </tr>\n",
       "    <tr>\n",
       "      <th>14</th>\n",
       "      <td>1st_and_2nd</td>\n",
       "      <td>14011.188378</td>\n",
       "    </tr>\n",
       "    <tr>\n",
       "      <th>15</th>\n",
       "      <td>gr_liv_area</td>\n",
       "      <td>12995.496482</td>\n",
       "    </tr>\n",
       "    <tr>\n",
       "      <th>16</th>\n",
       "      <td>garage_cars</td>\n",
       "      <td>5004.977014</td>\n",
       "    </tr>\n",
       "    <tr>\n",
       "      <th>17</th>\n",
       "      <td>alt_housing_options</td>\n",
       "      <td>-6016.456544</td>\n",
       "    </tr>\n",
       "  </tbody>\n",
       "</table>\n",
       "</div>"
      ],
      "text/plain": [
       "                      0             1\n",
       "0           street_pave    785.457530\n",
       "1         central_air_y  -1824.769349\n",
       "2          overall_qual  16997.448583\n",
       "3             bsmt_qual  -1343.648396\n",
       "4          kitchen_qual  11270.228417\n",
       "5          fireplace_qu   4856.242067\n",
       "6         bsmt_exposure   7511.783574\n",
       "7            heating_qc   2228.510015\n",
       "8            year_built   7557.800112\n",
       "9        bsmt_full_bath   6391.243096\n",
       "10            full_bath  -2011.438886\n",
       "11       year_remod/add   2722.596339\n",
       "12         mas_vnr_area   6593.581030\n",
       "13        total_bsmt_sf  12331.151115\n",
       "14          1st_and_2nd  14011.188378\n",
       "15          gr_liv_area  12995.496482\n",
       "16          garage_cars   5004.977014\n",
       "17  alt_housing_options  -6016.456544"
      ]
     },
     "execution_count": 80,
     "metadata": {},
     "output_type": "execute_result"
    }
   ],
   "source": [
    "pd.DataFrame(list(zip(X.columns, lr.coef_)))"
   ]
  },
  {
   "cell_type": "markdown",
   "metadata": {},
   "source": [
    "# Regularize"
   ]
  },
  {
   "cell_type": "code",
   "execution_count": 81,
   "metadata": {},
   "outputs": [],
   "source": [
    "ridge_model = Ridge(alpha=10)\n"
   ]
  },
  {
   "cell_type": "code",
   "execution_count": 82,
   "metadata": {},
   "outputs": [
    {
     "data": {
      "text/plain": [
       "Ridge(alpha=10)"
      ]
     },
     "execution_count": 82,
     "metadata": {},
     "output_type": "execute_result"
    }
   ],
   "source": [
    "ridge_model.fit(Z_train, y_train)\n"
   ]
  },
  {
   "cell_type": "code",
   "execution_count": 83,
   "metadata": {},
   "outputs": [
    {
     "name": "stdout",
     "output_type": "stream",
     "text": [
      "0.8638618810127175\n",
      "0.8738650101327905\n"
     ]
    }
   ],
   "source": [
    "print(ridge_model.score(Z_train, y_train))\n",
    "print(ridge_model.score(Z_test, y_test))"
   ]
  },
  {
   "cell_type": "code",
   "execution_count": 84,
   "metadata": {},
   "outputs": [],
   "source": [
    "r_alphas = np.logspace(0, 5, 100)\n"
   ]
  },
  {
   "cell_type": "code",
   "execution_count": 85,
   "metadata": {},
   "outputs": [],
   "source": [
    "ridge_cv = RidgeCV(alphas=r_alphas, scoring='r2', cv=5)\n"
   ]
  },
  {
   "cell_type": "code",
   "execution_count": 86,
   "metadata": {},
   "outputs": [],
   "source": [
    "ridge_cv = ridge_model.fit(Z_train, y_train)\n"
   ]
  },
  {
   "cell_type": "code",
   "execution_count": 87,
   "metadata": {},
   "outputs": [
    {
     "data": {
      "text/plain": [
       "10"
      ]
     },
     "execution_count": 87,
     "metadata": {},
     "output_type": "execute_result"
    }
   ],
   "source": [
    "ridge_cv.alpha\n"
   ]
  },
  {
   "cell_type": "code",
   "execution_count": 88,
   "metadata": {},
   "outputs": [],
   "source": [
    "test_df['saleprice'] = ridge_model.predict(XX)"
   ]
  },
  {
   "cell_type": "code",
   "execution_count": 89,
   "metadata": {},
   "outputs": [],
   "source": [
    "l_alphas = np.logspace(-3, 0, 100)\n"
   ]
  },
  {
   "cell_type": "code",
   "execution_count": 90,
   "metadata": {},
   "outputs": [],
   "source": [
    "lasso_cv = LassoCV(alphas=l_alphas, cv=5, max_iter=5000)\n"
   ]
  },
  {
   "cell_type": "code",
   "execution_count": 91,
   "metadata": {},
   "outputs": [],
   "source": [
    "lasso_cv.fit(Z_train, y_train);\n"
   ]
  },
  {
   "cell_type": "code",
   "execution_count": 92,
   "metadata": {},
   "outputs": [
    {
     "data": {
      "text/plain": [
       "1.0"
      ]
     },
     "execution_count": 92,
     "metadata": {},
     "output_type": "execute_result"
    }
   ],
   "source": [
    "lasso_cv.alpha_\n"
   ]
  },
  {
   "cell_type": "code",
   "execution_count": 93,
   "metadata": {},
   "outputs": [
    {
     "name": "stdout",
     "output_type": "stream",
     "text": [
      "0.8638699809054716\n",
      "0.8739644087161516\n"
     ]
    }
   ],
   "source": [
    "print(lasso_cv.score(Z_train, y_train))\n",
    "print(lasso_cv.score(Z_test, y_test))"
   ]
  },
  {
   "cell_type": "markdown",
   "metadata": {},
   "source": [
    "# Extra EDA and Analysis"
   ]
  },
  {
   "cell_type": "code",
   "execution_count": 94,
   "metadata": {},
   "outputs": [
    {
     "data": {
      "text/plain": [
       "Text(0.5, 1.0, 'Square Feet of Basement vs Sale Price')"
      ]
     },
     "execution_count": 94,
     "metadata": {},
     "output_type": "execute_result"
    },
    {
     "data": {
      "image/png": "[encoded data removed]",
      "text/plain": [
       "<Figure size 432x288 with 1 Axes>"
      ]
     },
     "metadata": {
      "needs_background": "light"
     },
     "output_type": "display_data"
    }
   ],
   "source": [
    "plt.scatter(train_df['full_bath'], train_df['sale_price'], c='purple', )\n",
    "plt.xlabel('Square Feet of Basement')\n",
    "plt.ylabel('Sale Price')\n",
    "plt.title('Square Feet of Basement vs Sale Price')"
   ]
  },
  {
   "cell_type": "code",
   "execution_count": 95,
   "metadata": {},
   "outputs": [
    {
     "data": {
      "text/plain": [
       "<matplotlib.axes._subplots.AxesSubplot at 0x1c350330c70>"
      ]
     },
     "execution_count": 95,
     "metadata": {},
     "output_type": "execute_result"
    },
    {
     "data": {
      "image/png": "[encoded data removed]",
      "text/plain": [
       "<Figure size 432x288 with 2 Axes>"
      ]
     },
     "metadata": {
      "needs_background": "light"
     },
     "output_type": "display_data"
    }
   ],
   "source": [
    "correlation = corr.corr()\n",
    "cmap = sns.diverging_palette(230, 20, as_cmap=True)\n",
    "sns.heatmap(correlation, cmap=cmap)"
   ]
  },
  {
   "cell_type": "code",
   "execution_count": 96,
   "metadata": {},
   "outputs": [
    {
     "data": {
      "image/png": "[encoded data removed]",
      "text/plain": [
       "<Figure size 864x720 with 2 Axes>"
      ]
     },
     "metadata": {
      "needs_background": "light"
     },
     "output_type": "display_data"
    }
   ],
   "source": [
    "plt.figure(figsize=(12, 10))\n",
    "sns.heatmap(correlation.corr(), cmap=cmap, vmin=-1, vmax=1, linewidths=1);"
   ]
  },
  {
   "cell_type": "code",
   "execution_count": 97,
   "metadata": {},
   "outputs": [],
   "source": [
    "building_type_df = train_df[['bldg_type_1fam','bldg_type_2fmcon', 'bldg_type_duplex', 'bldg_type_twnhs', 'bldg_type_twnhse', 'sale_price']]"
   ]
  },
  {
   "cell_type": "code",
   "execution_count": 98,
   "metadata": {
    "scrolled": true
   },
   "outputs": [
    {
     "data": {
      "text/plain": [
       "<matplotlib.axes._subplots.AxesSubplot at 0x1c351cc83a0>"
      ]
     },
     "execution_count": 98,
     "metadata": {},
     "output_type": "execute_result"
    },
    {
     "data": {
      "image/png": "[encoded data removed]",
      "text/plain": [
       "<Figure size 432x288 with 2 Axes>"
      ]
     },
     "metadata": {
      "needs_background": "light"
     },
     "output_type": "display_data"
    }
   ],
   "source": [
    "correlation = building_type_df.corr()\n",
    "cmap = sns.diverging_palette(230, 20, as_cmap=True)\n",
    "sns.heatmap(correlation, cmap=cmap)"
   ]
  },
  {
   "cell_type": "code",
   "execution_count": 99,
   "metadata": {},
   "outputs": [
    {
     "data": {
      "text/plain": [
       "<seaborn.axisgrid.PairGrid at 0x1c351d7e1c0>"
      ]
     },
     "execution_count": 99,
     "metadata": {},
     "output_type": "execute_result"
    },
    {
     "data": {
      "image/png": "[encoded data removed]",
      "text/plain": [
       "<Figure size 1080x1080 with 27 Axes>"
      ]
     },
     "metadata": {
      "needs_background": "light"
     },
     "output_type": "display_data"
    }
   ],
   "source": [
    "sns.pairplot(building_type_df, corner=True)"
   ]
  },
  {
   "cell_type": "code",
   "execution_count": 100,
   "metadata": {},
   "outputs": [],
   "source": [
    "resid=y_test - y_pred"
   ]
  },
  {
   "cell_type": "code",
   "execution_count": 101,
   "metadata": {
    "scrolled": true
   },
   "outputs": [
    {
     "data": {
      "text/plain": [
       "<matplotlib.lines.Line2D at 0x1c35203e160>"
      ]
     },
     "execution_count": 101,
     "metadata": {},
     "output_type": "execute_result"
    },
    {
     "data": {
      "image/png": "[encoded data removed]",
      "text/plain": [
       "<Figure size 432x288 with 1 Axes>"
      ]
     },
     "metadata": {
      "needs_background": "light"
     },
     "output_type": "display_data"
    }
   ],
   "source": [
    "plt.scatter(y_pred, resid)\n",
    "plt.axhline(0,color='red')\n"
   ]
  },
  {
   "cell_type": "code",
   "execution_count": 102,
   "metadata": {},
   "outputs": [
    {
     "data": {
      "text/plain": [
       "0       0\n",
       "1       0\n",
       "2       0\n",
       "3       0\n",
       "4       0\n",
       "       ..\n",
       "2046    0\n",
       "2047    0\n",
       "2048    0\n",
       "2049    0\n",
       "2050    0\n",
       "Name: bldg_type_twnhse, Length: 2049, dtype: int64"
      ]
     },
     "execution_count": 102,
     "metadata": {},
     "output_type": "execute_result"
    }
   ],
   "source": [
    "train_df['bldg_type_twnhse']"
   ]
  },
  {
   "cell_type": "code",
   "execution_count": 103,
   "metadata": {},
   "outputs": [],
   "source": [
    "bldg_type = train_df[['bldg_type_1fam', 'bldg_type_2fmcon', 'bldg_type_duplex','bldg_type_twnhs', 'bldg_type_twnhse']]"
   ]
  },
  {
   "cell_type": "code",
   "execution_count": 104,
   "metadata": {
    "scrolled": false
   },
   "outputs": [
    {
     "data": {
      "text/plain": [
       "<seaborn.axisgrid.PairGrid at 0x1c3504d5ee0>"
      ]
     },
     "execution_count": 104,
     "metadata": {},
     "output_type": "execute_result"
    },
    {
     "data": {
      "image/png": "[encoded data removed]",
      "text/plain": [
       "<Figure size 900x900 with 30 Axes>"
      ]
     },
     "metadata": {
      "needs_background": "light"
     },
     "output_type": "display_data"
    }
   ],
   "source": [
    "sns.pairplot(bldg_type)"
   ]
  },
  {
   "cell_type": "code",
   "execution_count": 105,
   "metadata": {},
   "outputs": [],
   "source": [
    "from sklearn.linear_model import LogisticRegression"
   ]
  },
  {
   "cell_type": "code",
   "execution_count": 106,
   "metadata": {},
   "outputs": [],
   "source": [
    "X = train_df[['sale_price']]\n",
    "y = train_df['bldg_type_duplex']"
   ]
  },
  {
   "cell_type": "code",
   "execution_count": 107,
   "metadata": {},
   "outputs": [],
   "source": [
    "X_train, X_test, y_train, y_test = train_test_split(X, y, random_state=42)"
   ]
  },
  {
   "cell_type": "code",
   "execution_count": 108,
   "metadata": {},
   "outputs": [
    {
     "name": "stdout",
     "output_type": "stream",
     "text": [
      "Logistic Regression Intercept: [-1.59272274e-10]\n",
      "Logistic Regression Coefficient: [[-2.21015011e-05]]\n"
     ]
    }
   ],
   "source": [
    "logreg = LogisticRegression()\n",
    "\n",
    "# Step 3: Fit our model.\n",
    "logreg.fit(X_train, y_train) # fit logreg with our training datasets\n",
    "\n",
    "print(f'Logistic Regression Intercept: {logreg.intercept_}')\n",
    "print(f'Logistic Regression Coefficient: {logreg.coef_}')"
   ]
  },
  {
   "cell_type": "code",
   "execution_count": 109,
   "metadata": {},
   "outputs": [
    {
     "data": {
      "text/plain": [
       "array([0, 0, 0, 0, 0, 0, 0, 0, 0, 0], dtype=int64)"
      ]
     },
     "execution_count": 109,
     "metadata": {},
     "output_type": "execute_result"
    }
   ],
   "source": [
    "logreg.predict(X_test)[:10] "
   ]
  },
  {
   "cell_type": "code",
   "execution_count": 110,
   "metadata": {},
   "outputs": [
    {
     "data": {
      "text/plain": [
       "array([[0.931, 0.069],\n",
       "       [0.999, 0.001],\n",
       "       [0.895, 0.105],\n",
       "       ...,\n",
       "       [0.999, 0.001],\n",
       "       [0.919, 0.081],\n",
       "       [0.996, 0.004]])"
      ]
     },
     "execution_count": 110,
     "metadata": {},
     "output_type": "execute_result"
    }
   ],
   "source": [
    "np.round(logreg.predict_proba(X_test), 3)"
   ]
  },
  {
   "cell_type": "code",
   "execution_count": null,
   "metadata": {},
   "outputs": [],
   "source": []
  },
  {
   "cell_type": "code",
   "execution_count": 111,
   "metadata": {},
   "outputs": [
    {
     "data": {
      "text/plain": [
       "[<matplotlib.lines.Line2D at 0x1c354c53df0>]"
      ]
     },
     "execution_count": 111,
     "metadata": {},
     "output_type": "execute_result"
    },
    {
     "data": {
      "image/png": "[encoded data removed]",
      "text/plain": [
       "<Figure size 720x360 with 1 Axes>"
      ]
     },
     "metadata": {
      "needs_background": "light"
     },
     "output_type": "display_data"
    }
   ],
   "source": [
    "plt.figure(figsize = (10, 5))\n",
    "\n",
    "plt.scatter(X_test, y_test, s = 10);\n",
    "\n",
    "plt.plot(X_test.sort_values('sale_price'),\n",
    "         logreg.predict_proba(X_test.sort_values('sale_price'))[:,1],\n",
    "         color = 'grey', alpha = 0.8, lw = 3)"
   ]
  },
  {
   "cell_type": "code",
   "execution_count": 112,
   "metadata": {},
   "outputs": [
    {
     "data": {
      "text/plain": [
       "[<matplotlib.lines.Line2D at 0x1c354fe4eb0>]"
      ]
     },
     "execution_count": 112,
     "metadata": {},
     "output_type": "execute_result"
    },
    {
     "data": {
      "image/png": "[encoded data removed]",
      "text/plain": [
       "<Figure size 720x360 with 1 Axes>"
      ]
     },
     "metadata": {
      "needs_background": "light"
     },
     "output_type": "display_data"
    }
   ],
   "source": [
    "plt.figure(figsize = (10, 5))\n",
    "\n",
    "plt.scatter(X_test, y_test, s = 10);\n",
    "\n",
    "plt.plot(X_test.sort_values('sale_price'),\n",
    "         logreg.predict_proba(X_test.sort_values('sale_price'))[:,1],\n",
    "         color = 'grey', alpha = 0.8, lw = 3)"
   ]
  },
  {
   "cell_type": "code",
   "execution_count": 113,
   "metadata": {},
   "outputs": [
    {
     "data": {
      "text/plain": [
       "[<matplotlib.lines.Line2D at 0x1c35503bee0>]"
      ]
     },
     "execution_count": 113,
     "metadata": {},
     "output_type": "execute_result"
    },
    {
     "data": {
      "image/png": "[encoded data removed]",
      "text/plain": [
       "<Figure size 720x360 with 1 Axes>"
      ]
     },
     "metadata": {
      "needs_background": "light"
     },
     "output_type": "display_data"
    }
   ],
   "source": [
    "plt.figure(figsize = (10, 5))\n",
    "\n",
    "plt.scatter(X_test, y_test, s = 10);\n",
    "\n",
    "plt.plot(X_test.sort_values('sale_price'),\n",
    "         logreg.predict_proba(X_test.sort_values('sale_price'))[:,1],\n",
    "         color = 'grey', alpha = 0.8, lw = 3)"
   ]
  },
  {
   "cell_type": "code",
   "execution_count": 114,
   "metadata": {},
   "outputs": [
    {
     "data": {
      "text/plain": [
       "<seaborn.axisgrid.FacetGrid at 0x1c355073790>"
      ]
     },
     "execution_count": 114,
     "metadata": {},
     "output_type": "execute_result"
    },
    {
     "data": {
      "image/png": "[encoded data removed]",
      "text/plain": [
       "<Figure size 360x360 with 1 Axes>"
      ]
     },
     "metadata": {
      "needs_background": "light"
     },
     "output_type": "display_data"
    }
   ],
   "source": [
    "sns.catplot(x='alt_housing_options', y='sale_price', data=train_df,)"
   ]
  },
  {
   "cell_type": "code",
   "execution_count": 115,
   "metadata": {},
   "outputs": [
    {
     "data": {
      "text/plain": [
       "<seaborn.axisgrid.FacetGrid at 0x1c3550b5c40>"
      ]
     },
     "execution_count": 115,
     "metadata": {},
     "output_type": "execute_result"
    },
    {
     "data": {
      "image/png": "[encoded data removed]",
      "text/plain": [
       "<Figure size 360x360 with 1 Axes>"
      ]
     },
     "metadata": {
      "needs_background": "light"
     },
     "output_type": "display_data"
    }
   ],
   "source": [
    "sns.catplot(x='bldg_type_1fam', y='sale_price', data=train_df,)"
   ]
  },
  {
   "cell_type": "code",
   "execution_count": 116,
   "metadata": {},
   "outputs": [
    {
     "data": {
      "text/plain": [
       "<seaborn.axisgrid.FacetGrid at 0x1c3550fcf70>"
      ]
     },
     "execution_count": 116,
     "metadata": {},
     "output_type": "execute_result"
    },
    {
     "data": {
      "image/png": "[encoded data removed]",
      "text/plain": [
       "<Figure size 360x360 with 1 Axes>"
      ]
     },
     "metadata": {
      "needs_background": "light"
     },
     "output_type": "display_data"
    }
   ],
   "source": [
    "\n",
    "sns.catplot(x='bldg_type_1fam', y='sale_price', data=train_df, kind=\"box\", )"
   ]
  },
  {
   "cell_type": "code",
   "execution_count": 117,
   "metadata": {},
   "outputs": [
    {
     "data": {
      "text/plain": [
       "<seaborn.axisgrid.FacetGrid at 0x1c35514a040>"
      ]
     },
     "execution_count": 117,
     "metadata": {},
     "output_type": "execute_result"
    },
    {
     "data": {
      "image/png": "[encoded data removed]",
      "text/plain": [
       "<Figure size 360x360 with 1 Axes>"
      ]
     },
     "metadata": {
      "needs_background": "light"
     },
     "output_type": "display_data"
    }
   ],
   "source": [
    "sns.catplot(x='alt_housing_options', y='sale_price', data=train_df, kind=\"box\", )"
   ]
  }
 ],
 "metadata": {
  "kernelspec": {
   "display_name": "Python 3",
   "language": "python",
   "name": "python3"
  },
  "language_info": {
   "codemirror_mode": {
    "name": "ipython",
    "version": 3
   },
   "file_extension": ".py",
   "mimetype": "text/x-python",
   "name": "python",
   "nbconvert_exporter": "python",
   "pygments_lexer": "ipython3",
   "version": "3.8.5"
  }
 },
 "nbformat": 4,
 "nbformat_minor": 4
}
